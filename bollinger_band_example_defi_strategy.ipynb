{
 "cells": [
  {
   "attachments": {},
   "cell_type": "markdown",
   "metadata": {
    "tags": []
   },
   "source": [
    "# TradingView strategy conversion example\n",
    "\n",
    "A bollinger band example strategy conversion\n",
    "\n",
    "This is an example notebook how to create and run backtests with\n",
    "[Trading Strategy DeFi algorithmic trading framework](https://tradingstrategy.ai/docs/programming/api/execution/index.html).\n",
    "\n",
    "This is an example trading strategy backtest prepared for Avalance Summit II workshop.\n",
    "For more information see [the README on Github repository](https://github.com/tradingstrategy-ai/tradingview-defi-strategy)."
   ]
  },
  {
   "cell_type": "markdown",
   "metadata": {
    "tags": []
   },
   "source": [
    "## Set up\n",
    "\n",
    "Set up the parameters used in in this strategy backtest study.\n",
    "\n",
    "- Backtested blockchain, exchange and trading pair\n",
    "- Backtesting period\n",
    "- Strategy parameters for EMA crossovers"
   ]
  },
  {
   "cell_type": "code",
   "execution_count": 33,
   "metadata": {
    "collapsed": false,
    "jupyter": {
     "outputs_hidden": false
    }
   },
   "outputs": [],
   "source": [
    "import datetime\n",
    "import pandas as pd\n",
    "\n",
    "from tradingstrategy.chain import ChainId\n",
    "from tradingstrategy.timebucket import TimeBucket\n",
    "from tradeexecutor.strategy.cycle import CycleDuration\n",
    "from tradeexecutor.strategy.strategy_module import StrategyType, TradeRouting, ReserveCurrency\n",
    "\n",
    "# Tell what trade execution engine version this strategy needs to use\n",
    "# NOTE: this setting has currently no effect\n",
    "TRADING_STRATEGY_TYPE_ENGINE_VERSION = \"0.1\"\n",
    "\n",
    "# What kind of strategy we are running.\n",
    "# This tells we are going to use\n",
    "# NOTE: this setting has currently no effect\n",
    "TRADING_STRATEGY_TYPE = StrategyType.managed_positions\n",
    "\n",
    "# How our trades are routed.\n",
    "TRADE_ROUTING = TradeRouting.quickswap_usdc\n",
    "\n",
    "# How often the strategy performs the decide_trades cycle.\n",
    "# We do it for every 4h.\n",
    "TRADING_STRATEGY_CYCLE = CycleDuration.cycle_1d\n",
    "\n",
    "# Strategy keeps its cash in USDC\n",
    "RESERVE_CURRENCY = ReserveCurrency.usdc\n",
    "\n",
    "# Time bucket for our candles\n",
    "CANDLE_TIME_BUCKET = TimeBucket.d1\n",
    "\n",
    "# Which chain we are trading\n",
    "CHAIN_ID = ChainId.polygon\n",
    "\n",
    "# Which exchange we are trading on.\n",
    "# More notes on this in decide_trades() function.\n",
    "EXCHANGE_SLUG = \"quickswap\"\n",
    "\n",
    "# Which trading pair we are trading\n",
    "TRADING_PAIR = (\"WETH\", \"USDC\")\n",
    "\n",
    "# How much of the cash to put on a single trade\n",
    "POSITION_SIZE = 0.50\n",
    "\n",
    "# Start with this amount of USD\n",
    "INITIAL_DEPOSIT = 5_000\n",
    "\n",
    "# Candle time granularity we use to check to trigger stop losses\n",
    "STOP_LOSS_TIME_BUCKET = TimeBucket.m15\n",
    "\n",
    "#\n",
    "# Strategy thinking specific parameter\n",
    "#\n",
    "\n",
    "# The look back OHLCV candle window we load in the strategy decision making\n",
    "BATCH_SIZE = 90\n",
    "\n",
    "# SMA line length in BB\n",
    "EMA_CANDLE_COUNT = 20  \n",
    "\n",
    "# Range of backtesting and synthetic data generation.\n",
    "# Because we are using synthetic data actual dates do not really matter -\n",
    "# only the duration\n",
    "\n",
    "START_AT = datetime.datetime(2021, 1, 1)\n",
    "\n",
    "END_AT = datetime.datetime(2023, 4, 1)\n",
    "\n",
    "# If the price drops 0.7% we trigger a stop loss\n",
    "STOP_LOSS_PCT = 0.993"
   ]
  },
  {
   "cell_type": "markdown",
   "metadata": {},
   "source": [
    "## Strategy logic and trade decisions\n",
    "\n",
    "- `decide_trades` function decide what trades to take.\n",
    "- In this example, we calculate two exponential moving averages\n",
    "(EMAs) and make decisions based on those.\n",
    "\n",
    "### Indicators\n",
    "\n",
    "- Note how we also make use of detached and overlayed technical indicators, so that the price chart is not overcrowded\n"
   ]
  },
  {
   "cell_type": "code",
   "execution_count": 34,
   "metadata": {
    "collapsed": false,
    "jupyter": {
     "outputs_hidden": false
    }
   },
   "outputs": [],
   "source": [
    "from typing import List, Dict\n",
    "\n",
    "from pandas_ta.overlap import ema\n",
    "from pandas_ta import bbands\n",
    "\n",
    "from tradingstrategy.universe import Universe\n",
    "\n",
    "from tradeexecutor.state.visualisation import PlotKind, PlotShape\n",
    "from tradeexecutor.state.crossover import is_crossover, is_crossover_constant\n",
    "from tradeexecutor.state.trade import TradeExecution\n",
    "from tradeexecutor.strategy.pricing_model import PricingModel\n",
    "from tradeexecutor.strategy.pandas_trader.position_manager import PositionManager\n",
    "from tradeexecutor.state.state import State\n",
    "from tradeexecutor.strategy.pandas_trader.position_manager import PositionManager\n",
    "\n",
    "\n",
    "def decide_trades(\n",
    "        timestamp: pd.Timestamp,\n",
    "        universe: Universe,\n",
    "        state: State,\n",
    "        pricing_model: PricingModel,\n",
    "        cycle_debug_data: Dict) -> List[TradeExecution]:\n",
    "    \"\"\"The brain function to decide the trades on each trading strategy cycle.\n",
    "\n",
    "    - Reads incoming execution state (positions, past trades)\n",
    "\n",
    "    - Reads the current universe (candles)\n",
    "\n",
    "    - Decides what trades to do next, if any, at current timestamp.\n",
    "\n",
    "    - Outputs strategy thinking for visualisation and debug messages\n",
    "\n",
    "    :param timestamp:\n",
    "        The Pandas timestamp object for this cycle. Matches\n",
    "        TRADING_STRATEGY_CYCLE division.\n",
    "        Always truncated to the zero seconds and minutes, never a real-time clock.\n",
    "\n",
    "    :param universe:\n",
    "        Trading universe that was constructed earlier.\n",
    "\n",
    "    :param state:\n",
    "        The current trade execution state.\n",
    "        Contains current open positions and all previously executed trades, plus output\n",
    "        for statistics, visualisation and diangnostics of the strategy.\n",
    "\n",
    "    :param pricing_model:\n",
    "        Pricing model can tell the buy/sell price of the particular asset at a particular moment.\n",
    "\n",
    "    :param cycle_debug_data:\n",
    "        Python dictionary for various debug variables you can read or set, specific to this trade cycle.\n",
    "        This data is discarded at the end of the trade cycle.\n",
    "\n",
    "    :return:\n",
    "        List of trade instructions in the form of :py:class:`TradeExecution` instances.\n",
    "        The trades can be generated using `position_manager` but strategy could also hand craft its trades.\n",
    "    \"\"\"\n",
    "\n",
    "    # We have only a single trading pair for this strategy.\n",
    "    pair = universe.pairs.get_single()\n",
    "\n",
    "    # Here we manipulate the pair trading fee.\n",
    "    # A live trading would happen on Polygon Uniswap v3 ETH-USDC pool with 0.05% LP fee.\n",
    "    # But this pool was deployed only couple of weeks back, so we do not have backtesting history for it.\n",
    "    # Thus, we are backtesting with QuickSwap ETH-USDC pair that has 0.30% LP fee tier, which\n",
    "    # we need to bump down to reflect the live trading situation.\n",
    "    # Drop the fee to 5 BPSs.\n",
    "    pair.fee = 0.005\n",
    "\n",
    "    # How much cash we have in the hand\n",
    "    cash = state.portfolio.get_current_cash()\n",
    "\n",
    "    # Get OHLCV candles for our trading pair as Pandas Dataframe.\n",
    "    # We could have candles for multiple trading pairs in a different strategy,\n",
    "    # but this strategy only operates on single pair candle.\n",
    "    # We also limit our sample size to N latest candles to speed up calculations.\n",
    "    candles: pd.DataFrame = universe.candles.get_single_pair_data(timestamp, sample_count=BATCH_SIZE)\n",
    "\n",
    "    # We have data for open, high, close, etc.\n",
    "    # We only operate using candle close values in this strategy.\n",
    "    close_prices = candles[\"close\"]\n",
    "\n",
    "    # Calculate exponential moving averages based on slow and fast sample numbers.\n",
    "    basis = ema(close_prices, length=EMA_CANDLE_COUNT)\n",
    "\n",
    "    if basis is None:\n",
    "        # Cannot calculate EMA, because\n",
    "        # not enough samples in backtesting yet.\n",
    "        # Need go forward in time.\n",
    "        return []\n",
    "\n",
    "\n",
    "    ema_latest = basis.iloc[-1]\n",
    "    price_latest = close_prices.iloc[-1]\n",
    "\n",
    "    trades = []\n",
    "\n",
    "    # Create a position manager helper class that allows us easily to create\n",
    "    # opening/closing trades for different positions\n",
    "    position_manager = PositionManager(timestamp, universe, state, pricing_model)\n",
    "\n",
    "    # Calculate Bollinger Bands with a 20-day SMA and 2 standard deviations using pandas_ta\n",
    "    # See documentation here https://tradingstrategy.ai/docs/programming/api/technical-analysis/volatility/help/pandas_ta.volatility.bbands.html#bbands\n",
    "    bollinger_bands = bbands(close_prices, length=20, std=2)\n",
    "    bb_upper = bollinger_bands[\"BBU_20_2.0\"]\n",
    "    bb_lower = bollinger_bands[\"BBL_20_2.0\"]\n",
    "\n",
    "    if not position_manager.is_any_open():\n",
    "        # No open positions, decide if BUY in this cycle.\n",
    "        # We buy if the price on the daily chart closes above the upper Bollinger Band.\n",
    "\n",
    "        if price_latest > bb_upper.iloc[-1]:\n",
    "            buy_amount = cash * POSITION_SIZE\n",
    "            new_trades = position_manager.open_1x_long(pair, buy_amount, stop_loss_pct=STOP_LOSS_PCT)\n",
    "            trades.extend(new_trades)\n",
    "\n",
    "\n",
    "        # if (\n",
    "        #     slow_ema_crossunder\n",
    "        #     or price_latest < slow_ema_latest and timestamp == START_AT\n",
    "        #     ):\n",
    "        #     buy_amount = cash * POSITION_SIZE\n",
    "        #     new_trades = position_manager.open_1x_long(pair, buy_amount, stop_loss_pct=STOP_LOSS_PCT)\n",
    "        #     trades.extend(new_trades)\n",
    "    else:\n",
    "        # We have an open position, decide if SELL in this cycle.\n",
    "        # We close the position when the price closes below the 20-day moving average.\n",
    "        \n",
    "        if price_latest < ema_latest:\n",
    "            new_trades = position_manager.close_all()\n",
    "            trades.extend(new_trades)\n",
    "\n",
    "\n",
    "    # Visualise our technical indicators\n",
    "    visualisation = state.visualisation\n",
    "    visualisation.plot_indicator(timestamp, \"BB upper\", PlotKind.technical_indicator_on_price, bb_upper.iloc[-1], colour=\"blue\")\n",
    "    visualisation.plot_indicator(timestamp, \"BB lower\", PlotKind.technical_indicator_on_price, bb_lower.iloc[-1], colour=\"blue\")\n",
    "    visualisation.plot_indicator(timestamp, \"BB basis\", PlotKind.technical_indicator_on_price, basis.iloc[-1], colour=\"darkyellow\")\n",
    "\n",
    "    return trades"
   ]
  },
  {
   "attachments": {},
   "cell_type": "markdown",
   "metadata": {},
   "source": [
    "## Defining the trading universe\n",
    "\n",
    "We create a trading universe with a single blockchain, single exchange and a single trading pair.\n",
    "\n",
    "Trading Strategy framework supports complex strategies, spanning thousands of pairs and lending pools,\n",
    "but we are not interested in this example."
   ]
  },
  {
   "cell_type": "code",
   "execution_count": 35,
   "metadata": {
    "collapsed": false,
    "jupyter": {
     "outputs_hidden": false
    }
   },
   "outputs": [],
   "source": [
    "from tradeexecutor.strategy.trading_strategy_universe import load_pair_data_for_single_exchange, TradingStrategyUniverse\n",
    "from tradeexecutor.strategy.execution_context import ExecutionContext\n",
    "from tradeexecutor.strategy.universe_model import UniverseOptions\n",
    "from tradingstrategy.client import Client\n",
    "import datetime\n",
    "\n",
    "def create_single_pair_trading_universe(\n",
    "        ts: datetime.datetime,\n",
    "        client: Client,\n",
    "        execution_context: ExecutionContext,\n",
    "        universe_options: UniverseOptions,\n",
    ") -> TradingStrategyUniverse:\n",
    "    dataset = load_pair_data_for_single_exchange(\n",
    "        client,\n",
    "        execution_context,\n",
    "        CANDLE_TIME_BUCKET,\n",
    "        CHAIN_ID,\n",
    "        EXCHANGE_SLUG,\n",
    "        [TRADING_PAIR],\n",
    "        universe_options,\n",
    "        stop_loss_time_bucket=STOP_LOSS_TIME_BUCKET,\n",
    "    )\n",
    "\n",
    "    # Filter down to the single pair we are interested in\n",
    "    universe = TradingStrategyUniverse.create_single_pair_universe(\n",
    "        dataset,\n",
    "        CHAIN_ID,\n",
    "        EXCHANGE_SLUG,\n",
    "        TRADING_PAIR[0],\n",
    "        TRADING_PAIR[1],\n",
    "    )\n",
    "\n",
    "    return universe"
   ]
  },
  {
   "cell_type": "markdown",
   "metadata": {},
   "source": [
    "## Set up the market data client\n",
    "\n",
    "The [Trading Strategy market data client](https://tradingstrategy.ai/docs/programming/api/client/index.html)\n",
    "is the Python library responsible for managing the data feeds needed to run the backtest.None\n",
    "\n",
    "We set up the market data client with an API key.\n",
    "\n",
    "[If you do not have an API key yet, you can register one](https://tradingstrategy.ai/trading-view/backtesting)."
   ]
  },
  {
   "cell_type": "code",
   "execution_count": 36,
   "metadata": {
    "collapsed": false,
    "jupyter": {
     "outputs_hidden": false
    }
   },
   "outputs": [
    {
     "name": "stdout",
     "output_type": "stream",
     "text": [
      "Started Trading Strategy in Jupyter notebook environment, configuration is stored in /Users/moo/.tradingstrategy\n"
     ]
    }
   ],
   "source": [
    "from tradingstrategy.client import Client\n",
    "\n",
    "client = Client.create_jupyter_client()"
   ]
  },
  {
   "cell_type": "markdown",
   "metadata": {},
   "source": [
    "## Load data"
   ]
  },
  {
   "cell_type": "code",
   "execution_count": 37,
   "metadata": {},
   "outputs": [
    {
     "data": {
      "application/vnd.jupyter.widget-view+json": {
       "model_id": "869d37050e834c2a8b527633a1442c60",
       "version_major": 2,
       "version_minor": 0
      },
      "text/plain": [
       "Loading OHLCV data for WETH-USDC:   0%|          | 0/80303396 [00:00<?, ?it/s]"
      ]
     },
     "metadata": {},
     "output_type": "display_data"
    },
    {
     "data": {
      "application/vnd.jupyter.widget-view+json": {
       "model_id": "eb7d7eb1325c495f99bdaf19c0bafb62",
       "version_major": 2,
       "version_minor": 0
      },
      "text/plain": [
       "Loading granular price data for stop loss/take profit for quickswap:   0%|          | 0/80226003 [00:00<?, ?it…"
      ]
     },
     "metadata": {},
     "output_type": "display_data"
    },
    {
     "name": "stdout",
     "output_type": "stream",
     "text": [
      "We loaded 930 candles.\n"
     ]
    }
   ],
   "source": [
    "from tradeexecutor.strategy.execution_context import ExecutionMode\n",
    "from tradeexecutor.strategy.universe_model import UniverseOptions\n",
    "\n",
    "universe = create_single_pair_trading_universe(\n",
    "    END_AT,\n",
    "    client,\n",
    "    ExecutionContext(mode=ExecutionMode.data_preload),\n",
    "    UniverseOptions()\n",
    ")\n",
    "print(f\"We loaded {universe.universe.candles.get_candle_count():,} candles.\")"
   ]
  },
  {
   "cell_type": "markdown",
   "metadata": {},
   "source": [
    "## Run backtest\n",
    "\n",
    "Run backtest using giving trading universe and strategy function.\n",
    "\n",
    "- Running the backtest outputs `state` object that contains all the information\n",
    "on the backtesting position and trades.\n",
    "- The trade execution engine will download the necessary datasets to run the backtest.\n",
    "  The datasets may be large, several gigabytes.\n"
   ]
  },
  {
   "cell_type": "code",
   "execution_count": 38,
   "metadata": {
    "collapsed": false,
    "jupyter": {
     "outputs_hidden": false
    }
   },
   "outputs": [
    {
     "data": {
      "application/vnd.jupyter.widget-view+json": {
       "model_id": "a06ef07a7c2e478a8dab85ca0f175af6",
       "version_major": 2,
       "version_minor": 0
      },
      "text/plain": [
       "  0%|          | 0/70848000 [00:00<?, ?it/s]"
      ]
     },
     "metadata": {},
     "output_type": "display_data"
    },
    {
     "name": "stdout",
     "output_type": "stream",
     "text": [
      "Backtesting completed, backtested strategy made 66 trades\n"
     ]
    }
   ],
   "source": [
    "import logging\n",
    "\n",
    "from tradeexecutor.backtest.backtest_runner import run_backtest_inline\n",
    "\n",
    "state, universe, debug_dump = run_backtest_inline(\n",
    "    name=\"Bollinger bands example\",\n",
    "    start_at=START_AT,\n",
    "    end_at=END_AT,\n",
    "    client=client,\n",
    "    cycle_duration=TRADING_STRATEGY_CYCLE,\n",
    "    decide_trades=decide_trades,\n",
    "    universe=universe,\n",
    "    # create_trading_universe=create_single_pair_trading_universe,\n",
    "    initial_deposit=INITIAL_DEPOSIT,\n",
    "    reserve_currency=RESERVE_CURRENCY,\n",
    "    trade_routing=TRADE_ROUTING,\n",
    "    log_level=logging.WARNING,\n",
    ")\n",
    "\n",
    "trade_count = len(list(state.portfolio.get_all_trades()))\n",
    "print(f\"Backtesting completed, backtested strategy made {trade_count} trades\")"
   ]
  },
  {
   "cell_type": "markdown",
   "metadata": {},
   "source": [
    "## Examine backtest results\n",
    "\n",
    "Examine `state` that contains all actions the trade executor took.\n",
    "\n",
    "We plot out a chart that shows\n",
    "- The price action\n",
    "- When the strategy made buys or sells"
   ]
  },
  {
   "cell_type": "code",
   "execution_count": 39,
   "metadata": {
    "collapsed": false,
    "jupyter": {
     "outputs_hidden": false
    }
   },
   "outputs": [
    {
     "name": "stdout",
     "output_type": "stream",
     "text": [
      "Positions taken: 33\n",
      "Trades made: 66\n"
     ]
    }
   ],
   "source": [
    "print(f\"Positions taken: {len(list(state.portfolio.get_all_positions()))}\")\n",
    "print(f\"Trades made: {len(list(state.portfolio.get_all_trades()))}\")"
   ]
  },
  {
   "cell_type": "code",
   "execution_count": 40,
   "metadata": {
    "collapsed": false,
    "jupyter": {
     "outputs_hidden": false
    }
   },
   "outputs": [
    {
     "ename": "ValueError",
     "evalue": "\n    Invalid value of type 'builtins.str' received for the 'color' property of scatter.line\n        Received value: 'darkyellow'\n\n    The 'color' property is a color and may be specified as:\n      - A hex string (e.g. '#ff0000')\n      - An rgb/rgba string (e.g. 'rgb(255,0,0)')\n      - An hsl/hsla string (e.g. 'hsl(0,100%,50%)')\n      - An hsv/hsva string (e.g. 'hsv(0,100%,100%)')\n      - A named CSS color:\n            aliceblue, antiquewhite, aqua, aquamarine, azure,\n            beige, bisque, black, blanchedalmond, blue,\n            blueviolet, brown, burlywood, cadetblue,\n            chartreuse, chocolate, coral, cornflowerblue,\n            cornsilk, crimson, cyan, darkblue, darkcyan,\n            darkgoldenrod, darkgray, darkgrey, darkgreen,\n            darkkhaki, darkmagenta, darkolivegreen, darkorange,\n            darkorchid, darkred, darksalmon, darkseagreen,\n            darkslateblue, darkslategray, darkslategrey,\n            darkturquoise, darkviolet, deeppink, deepskyblue,\n            dimgray, dimgrey, dodgerblue, firebrick,\n            floralwhite, forestgreen, fuchsia, gainsboro,\n            ghostwhite, gold, goldenrod, gray, grey, green,\n            greenyellow, honeydew, hotpink, indianred, indigo,\n            ivory, khaki, lavender, lavenderblush, lawngreen,\n            lemonchiffon, lightblue, lightcoral, lightcyan,\n            lightgoldenrodyellow, lightgray, lightgrey,\n            lightgreen, lightpink, lightsalmon, lightseagreen,\n            lightskyblue, lightslategray, lightslategrey,\n            lightsteelblue, lightyellow, lime, limegreen,\n            linen, magenta, maroon, mediumaquamarine,\n            mediumblue, mediumorchid, mediumpurple,\n            mediumseagreen, mediumslateblue, mediumspringgreen,\n            mediumturquoise, mediumvioletred, midnightblue,\n            mintcream, mistyrose, moccasin, navajowhite, navy,\n            oldlace, olive, olivedrab, orange, orangered,\n            orchid, palegoldenrod, palegreen, paleturquoise,\n            palevioletred, papayawhip, peachpuff, peru, pink,\n            plum, powderblue, purple, red, rosybrown,\n            royalblue, rebeccapurple, saddlebrown, salmon,\n            sandybrown, seagreen, seashell, sienna, silver,\n            skyblue, slateblue, slategray, slategrey, snow,\n            springgreen, steelblue, tan, teal, thistle, tomato,\n            turquoise, violet, wheat, white, whitesmoke,\n            yellow, yellowgreen",
     "output_type": "error",
     "traceback": [
      "\u001b[0;31m---------------------------------------------------------------------------\u001b[0m",
      "\u001b[0;31mValueError\u001b[0m                                Traceback (most recent call last)",
      "Cell \u001b[0;32mIn[40], line 4\u001b[0m\n\u001b[1;32m      1\u001b[0m \u001b[39mfrom\u001b[39;00m \u001b[39mtradeexecutor\u001b[39;00m\u001b[39m.\u001b[39;00m\u001b[39mvisual\u001b[39;00m\u001b[39m.\u001b[39;00m\u001b[39msingle_pair\u001b[39;00m \u001b[39mimport\u001b[39;00m visualise_single_pair, visualise_single_pair_positions_with_duration_and_slippage\n\u001b[1;32m      2\u001b[0m \u001b[39mfrom\u001b[39;00m \u001b[39mtradingstrategy\u001b[39;00m\u001b[39m.\u001b[39;00m\u001b[39mcharting\u001b[39;00m\u001b[39m.\u001b[39;00m\u001b[39mcandle_chart\u001b[39;00m \u001b[39mimport\u001b[39;00m VolumeBarMode\n\u001b[0;32m----> 4\u001b[0m figure \u001b[39m=\u001b[39m visualise_single_pair(\n\u001b[1;32m      5\u001b[0m     state,\n\u001b[1;32m      6\u001b[0m     universe\u001b[39m.\u001b[39;49muniverse\u001b[39m.\u001b[39;49mcandles,\n\u001b[1;32m      7\u001b[0m     start_at\u001b[39m=\u001b[39;49mSTART_AT,\n\u001b[1;32m      8\u001b[0m     end_at\u001b[39m=\u001b[39;49mEND_AT,\n\u001b[1;32m      9\u001b[0m     volume_bar_mode\u001b[39m=\u001b[39;49mVolumeBarMode\u001b[39m.\u001b[39;49mseparate,\n\u001b[1;32m     10\u001b[0m     volume_axis_name\u001b[39m=\u001b[39;49m\u001b[39m\"\u001b[39;49m\u001b[39mVolume (USD)\u001b[39;49m\u001b[39m\"\u001b[39;49m,\n\u001b[1;32m     11\u001b[0m     height \u001b[39m=\u001b[39;49m \u001b[39m1000\u001b[39;49m,\n\u001b[1;32m     12\u001b[0m )\n\u001b[1;32m     14\u001b[0m figure\u001b[39m.\u001b[39mshow()\n",
      "File \u001b[0;32m~/Library/Caches/pypoetry/virtualenvs/tradingview-defi-strategy-XB2Vkmi1-py3.10/lib/python3.10/site-packages/tradeexecutor/visual/single_pair.py:621\u001b[0m, in \u001b[0;36mvisualise_single_pair\u001b[0;34m(state, candle_universe, start_at, end_at, pair_id, height, axes, technical_indicators, title, theme, volume_bar_mode, vertical_spacing, subplot_font_size, relative_sizing, volume_axis_name)\u001b[0m\n\u001b[1;32m    608\u001b[0m trades_df \u001b[39m=\u001b[39m export_trades_as_dataframe(\n\u001b[1;32m    609\u001b[0m     state\u001b[39m.\u001b[39mportfolio,\n\u001b[1;32m    610\u001b[0m     pair_id,\n\u001b[1;32m    611\u001b[0m     start_at,\n\u001b[1;32m    612\u001b[0m     end_at,\n\u001b[1;32m    613\u001b[0m )\n\u001b[1;32m    615\u001b[0m labels \u001b[39m=\u001b[39m make_candle_labels(\n\u001b[1;32m    616\u001b[0m     candles,\n\u001b[1;32m    617\u001b[0m     base_token_name\u001b[39m=\u001b[39mbase_token,\n\u001b[1;32m    618\u001b[0m     quote_token_name\u001b[39m=\u001b[39mquote_token,\n\u001b[1;32m    619\u001b[0m )\n\u001b[0;32m--> 621\u001b[0m fig \u001b[39m=\u001b[39m _get_figure_grid_with_indicators(\n\u001b[1;32m    622\u001b[0m     state\u001b[39m=\u001b[39;49mstate, \n\u001b[1;32m    623\u001b[0m     start_at\u001b[39m=\u001b[39;49mstart_at, \n\u001b[1;32m    624\u001b[0m     end_at\u001b[39m=\u001b[39;49mend_at, \n\u001b[1;32m    625\u001b[0m     height\u001b[39m=\u001b[39;49mheight, \n\u001b[1;32m    626\u001b[0m     axes\u001b[39m=\u001b[39;49maxes, \n\u001b[1;32m    627\u001b[0m     technical_indicators\u001b[39m=\u001b[39;49mtechnical_indicators, \n\u001b[1;32m    628\u001b[0m     title\u001b[39m=\u001b[39;49mtitle, \n\u001b[1;32m    629\u001b[0m     theme\u001b[39m=\u001b[39;49mtheme, \n\u001b[1;32m    630\u001b[0m     volume_bar_mode\u001b[39m=\u001b[39;49mvolume_bar_mode, \n\u001b[1;32m    631\u001b[0m     vertical_spacing\u001b[39m=\u001b[39;49mvertical_spacing, \n\u001b[1;32m    632\u001b[0m     subplot_font_size\u001b[39m=\u001b[39;49msubplot_font_size, \n\u001b[1;32m    633\u001b[0m     relative_sizing\u001b[39m=\u001b[39;49mrelative_sizing, \n\u001b[1;32m    634\u001b[0m     candles\u001b[39m=\u001b[39;49mcandles,\n\u001b[1;32m    635\u001b[0m     pair_name\u001b[39m=\u001b[39;49mpair_name,\n\u001b[1;32m    636\u001b[0m     labels\u001b[39m=\u001b[39;49mlabels,\n\u001b[1;32m    637\u001b[0m     volume_axis_name\u001b[39m=\u001b[39;49mvolume_axis_name\n\u001b[1;32m    638\u001b[0m )\n\u001b[1;32m    640\u001b[0m \u001b[39m# Add trade markers if any trades have been made\u001b[39;00m\n\u001b[1;32m    641\u001b[0m \u001b[39mif\u001b[39;00m \u001b[39mlen\u001b[39m(trades_df) \u001b[39m>\u001b[39m \u001b[39m0\u001b[39m:\n",
      "File \u001b[0;32m~/Library/Caches/pypoetry/virtualenvs/tradingview-defi-strategy-XB2Vkmi1-py3.10/lib/python3.10/site-packages/tradeexecutor/visual/single_pair.py:836\u001b[0m, in \u001b[0;36m_get_figure_grid_with_indicators\u001b[0;34m(state, start_at, end_at, height, axes, technical_indicators, title, theme, volume_bar_mode, vertical_spacing, subplot_font_size, relative_sizing, candles, pair_name, labels, volume_axis_name)\u001b[0m\n\u001b[1;32m    834\u001b[0m \u001b[39m# Draw EMAs etc.\u001b[39;00m\n\u001b[1;32m    835\u001b[0m \u001b[39mif\u001b[39;00m technical_indicators:\n\u001b[0;32m--> 836\u001b[0m     overlay_all_technical_indicators(\n\u001b[1;32m    837\u001b[0m         fig,\n\u001b[1;32m    838\u001b[0m         state\u001b[39m.\u001b[39;49mvisualisation,\n\u001b[1;32m    839\u001b[0m         start_at,\n\u001b[1;32m    840\u001b[0m         end_at,\n\u001b[1;32m    841\u001b[0m         volume_bar_mode,\n\u001b[1;32m    842\u001b[0m     )\n\u001b[1;32m    844\u001b[0m \u001b[39mreturn\u001b[39;00m fig\n",
      "File \u001b[0;32m~/Library/Caches/pypoetry/virtualenvs/tradingview-defi-strategy-XB2Vkmi1-py3.10/lib/python3.10/site-packages/tradeexecutor/visual/technical_indicator.py:51\u001b[0m, in \u001b[0;36moverlay_all_technical_indicators\u001b[0;34m(fig, visualisation, start_at, end_at, volume_bar_mode)\u001b[0m\n\u001b[1;32m     47\u001b[0m \u001b[39m# https://plotly.com/python/graphing-multiple-chart-types/\u001b[39;00m\n\u001b[1;32m     48\u001b[0m \u001b[39mfor\u001b[39;00m plot \u001b[39min\u001b[39;00m visualisation\u001b[39m.\u001b[39mplots\u001b[39m.\u001b[39mvalues():\n\u001b[1;32m     49\u001b[0m     \n\u001b[1;32m     50\u001b[0m     \u001b[39m# get trace which is unattached to plot\u001b[39;00m\n\u001b[0;32m---> 51\u001b[0m     trace \u001b[39m=\u001b[39m visualise_technical_indicator(\n\u001b[1;32m     52\u001b[0m         plot,\n\u001b[1;32m     53\u001b[0m         start_at,\n\u001b[1;32m     54\u001b[0m         end_at,\n\u001b[1;32m     55\u001b[0m     )\n\u001b[1;32m     57\u001b[0m     \u001b[39m# must have something to draw for plot\u001b[39;00m\n\u001b[1;32m     58\u001b[0m     \u001b[39mif\u001b[39;00m trace \u001b[39mis\u001b[39;00m \u001b[39mNone\u001b[39;00m:\n",
      "File \u001b[0;32m~/Library/Caches/pypoetry/virtualenvs/tradingview-defi-strategy-XB2Vkmi1-py3.10/lib/python3.10/site-packages/tradeexecutor/visual/technical_indicator.py:98\u001b[0m, in \u001b[0;36mvisualise_technical_indicator\u001b[0;34m(plot, start_at, end_at)\u001b[0m\n\u001b[1;32m     95\u001b[0m \u001b[39mif\u001b[39;00m \u001b[39mlen\u001b[39m(df) \u001b[39m<\u001b[39m\u001b[39m=\u001b[39m \u001b[39m0\u001b[39m:\n\u001b[1;32m     96\u001b[0m     \u001b[39mreturn\u001b[39;00m \u001b[39mNone\u001b[39;00m\n\u001b[0;32m---> 98\u001b[0m \u001b[39mreturn\u001b[39;00m _get_plot(df, plot)\n",
      "File \u001b[0;32m~/Library/Caches/pypoetry/virtualenvs/tradingview-defi-strategy-XB2Vkmi1-py3.10/lib/python3.10/site-packages/tradeexecutor/visual/technical_indicator.py:154\u001b[0m, in \u001b[0;36m_get_plot\u001b[0;34m(df, plot)\u001b[0m\n\u001b[1;32m    152\u001b[0m     \u001b[39mreturn\u001b[39;00m _get_marker_plot(df, plot)\n\u001b[1;32m    153\u001b[0m \u001b[39melif\u001b[39;00m plot\u001b[39m.\u001b[39mplot_shape \u001b[39min\u001b[39;00m {PlotShape\u001b[39m.\u001b[39mlinear, PlotShape\u001b[39m.\u001b[39mhorizontal_vertical}:\n\u001b[0;32m--> 154\u001b[0m     \u001b[39mreturn\u001b[39;00m _get_linear_plot(df, plot)\n\u001b[1;32m    155\u001b[0m \u001b[39melse\u001b[39;00m:\n\u001b[1;32m    156\u001b[0m     \u001b[39mraise\u001b[39;00m \u001b[39mValueError\u001b[39;00m(\u001b[39mf\u001b[39m\u001b[39m\"\u001b[39m\u001b[39mUnknown plot shape: \u001b[39m\u001b[39m{\u001b[39;00mplot\u001b[39m.\u001b[39mplot_shape\u001b[39m}\u001b[39;00m\u001b[39m\"\u001b[39m)\n",
      "File \u001b[0;32m~/Library/Caches/pypoetry/virtualenvs/tradingview-defi-strategy-XB2Vkmi1-py3.10/lib/python3.10/site-packages/tradeexecutor/visual/technical_indicator.py:189\u001b[0m, in \u001b[0;36m_get_linear_plot\u001b[0;34m(df, plot)\u001b[0m\n\u001b[1;32m    180\u001b[0m     \u001b[39mreturn\u001b[39;00m go\u001b[39m.\u001b[39mScatter(\n\u001b[1;32m    181\u001b[0m         x\u001b[39m=\u001b[39mdf[\u001b[39m\"\u001b[39m\u001b[39mtimestamp\u001b[39m\u001b[39m\"\u001b[39m],\n\u001b[1;32m    182\u001b[0m         y\u001b[39m=\u001b[39mdf[\u001b[39m\"\u001b[39m\u001b[39mvalue\u001b[39m\u001b[39m\"\u001b[39m],\n\u001b[0;32m   (...)\u001b[0m\n\u001b[1;32m    186\u001b[0m         line_shape\u001b[39m=\u001b[39mplot\u001b[39m.\u001b[39mplot_shape\u001b[39m.\u001b[39mvalue\n\u001b[1;32m    187\u001b[0m     )\n\u001b[1;32m    188\u001b[0m \u001b[39melse\u001b[39;00m:\n\u001b[0;32m--> 189\u001b[0m     \u001b[39mreturn\u001b[39;00m go\u001b[39m.\u001b[39;49mScatter(\n\u001b[1;32m    190\u001b[0m         x\u001b[39m=\u001b[39;49mdf[\u001b[39m\"\u001b[39;49m\u001b[39mtimestamp\u001b[39;49m\u001b[39m\"\u001b[39;49m],\n\u001b[1;32m    191\u001b[0m         y\u001b[39m=\u001b[39;49mdf[\u001b[39m\"\u001b[39;49m\u001b[39mvalue\u001b[39;49m\u001b[39m\"\u001b[39;49m],\n\u001b[1;32m    192\u001b[0m         mode\u001b[39m=\u001b[39;49m\u001b[39m\"\u001b[39;49m\u001b[39mlines\u001b[39;49m\u001b[39m\"\u001b[39;49m,\n\u001b[1;32m    193\u001b[0m         name\u001b[39m=\u001b[39;49mplot\u001b[39m.\u001b[39;49mname,\n\u001b[1;32m    194\u001b[0m         line\u001b[39m=\u001b[39;49m\u001b[39mdict\u001b[39;49m(color\u001b[39m=\u001b[39;49mplot\u001b[39m.\u001b[39;49mcolour),\n\u001b[1;32m    195\u001b[0m         line_shape\u001b[39m=\u001b[39;49mplot\u001b[39m.\u001b[39;49mplot_shape\u001b[39m.\u001b[39;49mvalue\n\u001b[1;32m    196\u001b[0m     )\n",
      "File \u001b[0;32m~/Library/Caches/pypoetry/virtualenvs/tradingview-defi-strategy-XB2Vkmi1-py3.10/lib/python3.10/site-packages/plotly/graph_objs/_scatter.py:3331\u001b[0m, in \u001b[0;36mScatter.__init__\u001b[0;34m(self, arg, alignmentgroup, cliponaxis, connectgaps, customdata, customdatasrc, dx, dy, error_x, error_y, fill, fillcolor, fillpattern, groupnorm, hoverinfo, hoverinfosrc, hoverlabel, hoveron, hovertemplate, hovertemplatesrc, hovertext, hovertextsrc, ids, idssrc, legendgroup, legendgrouptitle, legendrank, legendwidth, line, marker, meta, metasrc, mode, name, offsetgroup, opacity, orientation, selected, selectedpoints, showlegend, stackgaps, stackgroup, stream, text, textfont, textposition, textpositionsrc, textsrc, texttemplate, texttemplatesrc, uid, uirevision, unselected, visible, x, x0, xaxis, xcalendar, xhoverformat, xperiod, xperiod0, xperiodalignment, xsrc, y, y0, yaxis, ycalendar, yhoverformat, yperiod, yperiod0, yperiodalignment, ysrc, **kwargs)\u001b[0m\n\u001b[1;32m   3329\u001b[0m _v \u001b[39m=\u001b[39m line \u001b[39mif\u001b[39;00m line \u001b[39mis\u001b[39;00m \u001b[39mnot\u001b[39;00m \u001b[39mNone\u001b[39;00m \u001b[39melse\u001b[39;00m _v\n\u001b[1;32m   3330\u001b[0m \u001b[39mif\u001b[39;00m _v \u001b[39mis\u001b[39;00m \u001b[39mnot\u001b[39;00m \u001b[39mNone\u001b[39;00m:\n\u001b[0;32m-> 3331\u001b[0m     \u001b[39mself\u001b[39;49m[\u001b[39m\"\u001b[39;49m\u001b[39mline\u001b[39;49m\u001b[39m\"\u001b[39;49m] \u001b[39m=\u001b[39m _v\n\u001b[1;32m   3332\u001b[0m _v \u001b[39m=\u001b[39m arg\u001b[39m.\u001b[39mpop(\u001b[39m\"\u001b[39m\u001b[39mmarker\u001b[39m\u001b[39m\"\u001b[39m, \u001b[39mNone\u001b[39;00m)\n\u001b[1;32m   3333\u001b[0m _v \u001b[39m=\u001b[39m marker \u001b[39mif\u001b[39;00m marker \u001b[39mis\u001b[39;00m \u001b[39mnot\u001b[39;00m \u001b[39mNone\u001b[39;00m \u001b[39melse\u001b[39;00m _v\n",
      "File \u001b[0;32m~/Library/Caches/pypoetry/virtualenvs/tradingview-defi-strategy-XB2Vkmi1-py3.10/lib/python3.10/site-packages/plotly/basedatatypes.py:4842\u001b[0m, in \u001b[0;36mBasePlotlyType.__setitem__\u001b[0;34m(self, prop, value)\u001b[0m\n\u001b[1;32m   4840\u001b[0m \u001b[39m# ### Handle compound property ###\u001b[39;00m\n\u001b[1;32m   4841\u001b[0m \u001b[39mif\u001b[39;00m \u001b[39misinstance\u001b[39m(validator, CompoundValidator):\n\u001b[0;32m-> 4842\u001b[0m     \u001b[39mself\u001b[39;49m\u001b[39m.\u001b[39;49m_set_compound_prop(prop, value)\n\u001b[1;32m   4844\u001b[0m \u001b[39m# ### Handle compound array property ###\u001b[39;00m\n\u001b[1;32m   4845\u001b[0m \u001b[39melif\u001b[39;00m \u001b[39misinstance\u001b[39m(validator, (CompoundArrayValidator, BaseDataValidator)):\n",
      "File \u001b[0;32m~/Library/Caches/pypoetry/virtualenvs/tradingview-defi-strategy-XB2Vkmi1-py3.10/lib/python3.10/site-packages/plotly/basedatatypes.py:5253\u001b[0m, in \u001b[0;36mBasePlotlyType._set_compound_prop\u001b[0;34m(self, prop, val)\u001b[0m\n\u001b[1;32m   5250\u001b[0m \u001b[39m# Import value\u001b[39;00m\n\u001b[1;32m   5251\u001b[0m \u001b[39m# ------------\u001b[39;00m\n\u001b[1;32m   5252\u001b[0m validator \u001b[39m=\u001b[39m \u001b[39mself\u001b[39m\u001b[39m.\u001b[39m_get_validator(prop)\n\u001b[0;32m-> 5253\u001b[0m val \u001b[39m=\u001b[39m validator\u001b[39m.\u001b[39;49mvalidate_coerce(val, skip_invalid\u001b[39m=\u001b[39;49m\u001b[39mself\u001b[39;49m\u001b[39m.\u001b[39;49m_skip_invalid)\n\u001b[1;32m   5255\u001b[0m \u001b[39m# Save deep copies of current and new states\u001b[39;00m\n\u001b[1;32m   5256\u001b[0m \u001b[39m# ------------------------------------------\u001b[39;00m\n\u001b[1;32m   5257\u001b[0m curr_val \u001b[39m=\u001b[39m \u001b[39mself\u001b[39m\u001b[39m.\u001b[39m_compound_props\u001b[39m.\u001b[39mget(prop, \u001b[39mNone\u001b[39;00m)\n",
      "File \u001b[0;32m~/Library/Caches/pypoetry/virtualenvs/tradingview-defi-strategy-XB2Vkmi1-py3.10/lib/python3.10/site-packages/_plotly_utils/basevalidators.py:2476\u001b[0m, in \u001b[0;36mCompoundValidator.validate_coerce\u001b[0;34m(self, v, skip_invalid, _validate)\u001b[0m\n\u001b[1;32m   2473\u001b[0m     v \u001b[39m=\u001b[39m \u001b[39mself\u001b[39m\u001b[39m.\u001b[39mdata_class()\n\u001b[1;32m   2475\u001b[0m \u001b[39melif\u001b[39;00m \u001b[39misinstance\u001b[39m(v, \u001b[39mdict\u001b[39m):\n\u001b[0;32m-> 2476\u001b[0m     v \u001b[39m=\u001b[39m \u001b[39mself\u001b[39;49m\u001b[39m.\u001b[39;49mdata_class(v, skip_invalid\u001b[39m=\u001b[39;49mskip_invalid, _validate\u001b[39m=\u001b[39;49m_validate)\n\u001b[1;32m   2478\u001b[0m \u001b[39melif\u001b[39;00m \u001b[39misinstance\u001b[39m(v, \u001b[39mself\u001b[39m\u001b[39m.\u001b[39mdata_class):\n\u001b[1;32m   2479\u001b[0m     \u001b[39m# Copy object\u001b[39;00m\n\u001b[1;32m   2480\u001b[0m     v \u001b[39m=\u001b[39m \u001b[39mself\u001b[39m\u001b[39m.\u001b[39mdata_class(v)\n",
      "File \u001b[0;32m~/Library/Caches/pypoetry/virtualenvs/tradingview-defi-strategy-XB2Vkmi1-py3.10/lib/python3.10/site-packages/plotly/graph_objs/scatter/_line.py:374\u001b[0m, in \u001b[0;36mLine.__init__\u001b[0;34m(self, arg, backoff, backoffsrc, color, dash, shape, simplify, smoothing, width, **kwargs)\u001b[0m\n\u001b[1;32m    372\u001b[0m _v \u001b[39m=\u001b[39m color \u001b[39mif\u001b[39;00m color \u001b[39mis\u001b[39;00m \u001b[39mnot\u001b[39;00m \u001b[39mNone\u001b[39;00m \u001b[39melse\u001b[39;00m _v\n\u001b[1;32m    373\u001b[0m \u001b[39mif\u001b[39;00m _v \u001b[39mis\u001b[39;00m \u001b[39mnot\u001b[39;00m \u001b[39mNone\u001b[39;00m:\n\u001b[0;32m--> 374\u001b[0m     \u001b[39mself\u001b[39;49m[\u001b[39m\"\u001b[39;49m\u001b[39mcolor\u001b[39;49m\u001b[39m\"\u001b[39;49m] \u001b[39m=\u001b[39m _v\n\u001b[1;32m    375\u001b[0m _v \u001b[39m=\u001b[39m arg\u001b[39m.\u001b[39mpop(\u001b[39m\"\u001b[39m\u001b[39mdash\u001b[39m\u001b[39m\"\u001b[39m, \u001b[39mNone\u001b[39;00m)\n\u001b[1;32m    376\u001b[0m _v \u001b[39m=\u001b[39m dash \u001b[39mif\u001b[39;00m dash \u001b[39mis\u001b[39;00m \u001b[39mnot\u001b[39;00m \u001b[39mNone\u001b[39;00m \u001b[39melse\u001b[39;00m _v\n",
      "File \u001b[0;32m~/Library/Caches/pypoetry/virtualenvs/tradingview-defi-strategy-XB2Vkmi1-py3.10/lib/python3.10/site-packages/plotly/basedatatypes.py:4850\u001b[0m, in \u001b[0;36mBasePlotlyType.__setitem__\u001b[0;34m(self, prop, value)\u001b[0m\n\u001b[1;32m   4846\u001b[0m         \u001b[39mself\u001b[39m\u001b[39m.\u001b[39m_set_array_prop(prop, value)\n\u001b[1;32m   4848\u001b[0m     \u001b[39m# ### Handle simple property ###\u001b[39;00m\n\u001b[1;32m   4849\u001b[0m     \u001b[39melse\u001b[39;00m:\n\u001b[0;32m-> 4850\u001b[0m         \u001b[39mself\u001b[39;49m\u001b[39m.\u001b[39;49m_set_prop(prop, value)\n\u001b[1;32m   4851\u001b[0m \u001b[39melse\u001b[39;00m:\n\u001b[1;32m   4852\u001b[0m     \u001b[39m# Make sure properties dict is initialized\u001b[39;00m\n\u001b[1;32m   4853\u001b[0m     \u001b[39mself\u001b[39m\u001b[39m.\u001b[39m_init_props()\n",
      "File \u001b[0;32m~/Library/Caches/pypoetry/virtualenvs/tradingview-defi-strategy-XB2Vkmi1-py3.10/lib/python3.10/site-packages/plotly/basedatatypes.py:5194\u001b[0m, in \u001b[0;36mBasePlotlyType._set_prop\u001b[0;34m(self, prop, val)\u001b[0m\n\u001b[1;32m   5192\u001b[0m         \u001b[39mreturn\u001b[39;00m\n\u001b[1;32m   5193\u001b[0m     \u001b[39melse\u001b[39;00m:\n\u001b[0;32m-> 5194\u001b[0m         \u001b[39mraise\u001b[39;00m err\n\u001b[1;32m   5196\u001b[0m \u001b[39m# val is None\u001b[39;00m\n\u001b[1;32m   5197\u001b[0m \u001b[39m# -----------\u001b[39;00m\n\u001b[1;32m   5198\u001b[0m \u001b[39mif\u001b[39;00m val \u001b[39mis\u001b[39;00m \u001b[39mNone\u001b[39;00m:\n\u001b[1;32m   5199\u001b[0m     \u001b[39m# Check if we should send null update\u001b[39;00m\n",
      "File \u001b[0;32m~/Library/Caches/pypoetry/virtualenvs/tradingview-defi-strategy-XB2Vkmi1-py3.10/lib/python3.10/site-packages/plotly/basedatatypes.py:5189\u001b[0m, in \u001b[0;36mBasePlotlyType._set_prop\u001b[0;34m(self, prop, val)\u001b[0m\n\u001b[1;32m   5186\u001b[0m validator \u001b[39m=\u001b[39m \u001b[39mself\u001b[39m\u001b[39m.\u001b[39m_get_validator(prop)\n\u001b[1;32m   5188\u001b[0m \u001b[39mtry\u001b[39;00m:\n\u001b[0;32m-> 5189\u001b[0m     val \u001b[39m=\u001b[39m validator\u001b[39m.\u001b[39;49mvalidate_coerce(val)\n\u001b[1;32m   5190\u001b[0m \u001b[39mexcept\u001b[39;00m \u001b[39mValueError\u001b[39;00m \u001b[39mas\u001b[39;00m err:\n\u001b[1;32m   5191\u001b[0m     \u001b[39mif\u001b[39;00m \u001b[39mself\u001b[39m\u001b[39m.\u001b[39m_skip_invalid:\n",
      "File \u001b[0;32m~/Library/Caches/pypoetry/virtualenvs/tradingview-defi-strategy-XB2Vkmi1-py3.10/lib/python3.10/site-packages/_plotly_utils/basevalidators.py:1375\u001b[0m, in \u001b[0;36mColorValidator.validate_coerce\u001b[0;34m(self, v, should_raise)\u001b[0m\n\u001b[1;32m   1373\u001b[0m     validated_v \u001b[39m=\u001b[39m \u001b[39mself\u001b[39m\u001b[39m.\u001b[39mvc_scalar(v)\n\u001b[1;32m   1374\u001b[0m     \u001b[39mif\u001b[39;00m validated_v \u001b[39mis\u001b[39;00m \u001b[39mNone\u001b[39;00m \u001b[39mand\u001b[39;00m should_raise:\n\u001b[0;32m-> 1375\u001b[0m         \u001b[39mself\u001b[39;49m\u001b[39m.\u001b[39;49mraise_invalid_val(v)\n\u001b[1;32m   1377\u001b[0m     v \u001b[39m=\u001b[39m validated_v\n\u001b[1;32m   1379\u001b[0m \u001b[39mreturn\u001b[39;00m v\n",
      "File \u001b[0;32m~/Library/Caches/pypoetry/virtualenvs/tradingview-defi-strategy-XB2Vkmi1-py3.10/lib/python3.10/site-packages/_plotly_utils/basevalidators.py:288\u001b[0m, in \u001b[0;36mBaseValidator.raise_invalid_val\u001b[0;34m(self, v, inds)\u001b[0m\n\u001b[1;32m    285\u001b[0m             \u001b[39mfor\u001b[39;00m i \u001b[39min\u001b[39;00m inds:\n\u001b[1;32m    286\u001b[0m                 name \u001b[39m+\u001b[39m\u001b[39m=\u001b[39m \u001b[39m\"\u001b[39m\u001b[39m[\u001b[39m\u001b[39m\"\u001b[39m \u001b[39m+\u001b[39m \u001b[39mstr\u001b[39m(i) \u001b[39m+\u001b[39m \u001b[39m\"\u001b[39m\u001b[39m]\u001b[39m\u001b[39m\"\u001b[39m\n\u001b[0;32m--> 288\u001b[0m         \u001b[39mraise\u001b[39;00m \u001b[39mValueError\u001b[39;00m(\n\u001b[1;32m    289\u001b[0m \u001b[39m            \u001b[39m\u001b[39m\"\"\"\u001b[39;00m\n\u001b[1;32m    290\u001b[0m \u001b[39m    Invalid value of type {typ} received for the '{name}' property of {pname}\u001b[39;00m\n\u001b[1;32m    291\u001b[0m \u001b[39m        Received value: {v}\u001b[39;00m\n\u001b[1;32m    292\u001b[0m \n\u001b[1;32m    293\u001b[0m \u001b[39m{valid_clr_desc}\"\"\"\u001b[39;00m\u001b[39m.\u001b[39mformat(\n\u001b[1;32m    294\u001b[0m                 name\u001b[39m=\u001b[39mname,\n\u001b[1;32m    295\u001b[0m                 pname\u001b[39m=\u001b[39m\u001b[39mself\u001b[39m\u001b[39m.\u001b[39mparent_name,\n\u001b[1;32m    296\u001b[0m                 typ\u001b[39m=\u001b[39mtype_str(v),\n\u001b[1;32m    297\u001b[0m                 v\u001b[39m=\u001b[39m\u001b[39mrepr\u001b[39m(v),\n\u001b[1;32m    298\u001b[0m                 valid_clr_desc\u001b[39m=\u001b[39m\u001b[39mself\u001b[39m\u001b[39m.\u001b[39mdescription(),\n\u001b[1;32m    299\u001b[0m             )\n\u001b[1;32m    300\u001b[0m         )\n",
      "\u001b[0;31mValueError\u001b[0m: \n    Invalid value of type 'builtins.str' received for the 'color' property of scatter.line\n        Received value: 'darkyellow'\n\n    The 'color' property is a color and may be specified as:\n      - A hex string (e.g. '#ff0000')\n      - An rgb/rgba string (e.g. 'rgb(255,0,0)')\n      - An hsl/hsla string (e.g. 'hsl(0,100%,50%)')\n      - An hsv/hsva string (e.g. 'hsv(0,100%,100%)')\n      - A named CSS color:\n            aliceblue, antiquewhite, aqua, aquamarine, azure,\n            beige, bisque, black, blanchedalmond, blue,\n            blueviolet, brown, burlywood, cadetblue,\n            chartreuse, chocolate, coral, cornflowerblue,\n            cornsilk, crimson, cyan, darkblue, darkcyan,\n            darkgoldenrod, darkgray, darkgrey, darkgreen,\n            darkkhaki, darkmagenta, darkolivegreen, darkorange,\n            darkorchid, darkred, darksalmon, darkseagreen,\n            darkslateblue, darkslategray, darkslategrey,\n            darkturquoise, darkviolet, deeppink, deepskyblue,\n            dimgray, dimgrey, dodgerblue, firebrick,\n            floralwhite, forestgreen, fuchsia, gainsboro,\n            ghostwhite, gold, goldenrod, gray, grey, green,\n            greenyellow, honeydew, hotpink, indianred, indigo,\n            ivory, khaki, lavender, lavenderblush, lawngreen,\n            lemonchiffon, lightblue, lightcoral, lightcyan,\n            lightgoldenrodyellow, lightgray, lightgrey,\n            lightgreen, lightpink, lightsalmon, lightseagreen,\n            lightskyblue, lightslategray, lightslategrey,\n            lightsteelblue, lightyellow, lime, limegreen,\n            linen, magenta, maroon, mediumaquamarine,\n            mediumblue, mediumorchid, mediumpurple,\n            mediumseagreen, mediumslateblue, mediumspringgreen,\n            mediumturquoise, mediumvioletred, midnightblue,\n            mintcream, mistyrose, moccasin, navajowhite, navy,\n            oldlace, olive, olivedrab, orange, orangered,\n            orchid, palegoldenrod, palegreen, paleturquoise,\n            palevioletred, papayawhip, peachpuff, peru, pink,\n            plum, powderblue, purple, red, rosybrown,\n            royalblue, rebeccapurple, saddlebrown, salmon,\n            sandybrown, seagreen, seashell, sienna, silver,\n            skyblue, slateblue, slategray, slategrey, snow,\n            springgreen, steelblue, tan, teal, thistle, tomato,\n            turquoise, violet, wheat, white, whitesmoke,\n            yellow, yellowgreen"
     ]
    }
   ],
   "source": [
    "\n",
    "from tradeexecutor.visual.single_pair import visualise_single_pair, visualise_single_pair_positions_with_duration_and_slippage\n",
    "from tradingstrategy.charting.candle_chart import VolumeBarMode\n",
    "\n",
    "figure = visualise_single_pair(\n",
    "    state,\n",
    "    universe.universe.candles,\n",
    "    start_at=START_AT,\n",
    "    end_at=END_AT,\n",
    "    volume_bar_mode=VolumeBarMode.separate,\n",
    "    volume_axis_name=\"Volume (USD)\",\n",
    "    height = 1000,\n",
    ")\n",
    "\n",
    "figure.show()"
   ]
  },
  {
   "cell_type": "code",
   "execution_count": null,
   "metadata": {},
   "outputs": [],
   "source": [
    "candles = universe.universe.candles.get_candles_by_pair(universe.get_single_pair().internal_id)\n",
    "\n",
    "figure2 = visualise_single_pair_positions_with_duration_and_slippage(\n",
    "    state,\n",
    "    candles,\n",
    ")\n",
    "\n",
    "figure2.show()"
   ]
  },
  {
   "cell_type": "markdown",
   "metadata": {},
   "source": [
    "## Benchmarking the strategy performance\n",
    "\n",
    "Here we benchmark the strategy performance against some baseline scenarios.\n",
    "\n",
    "- Buy and hold US dollar\n",
    "- Buy and hold the underlying trading pair base asset\n"
   ]
  },
  {
   "cell_type": "code",
   "execution_count": null,
   "metadata": {
    "tags": []
   },
   "outputs": [],
   "source": [
    "from tradeexecutor.visual.benchmark import visualise_benchmark\n",
    "\n",
    "traded_pair = universe.universe.pairs.get_single()\n",
    "\n",
    "fig = visualise_benchmark(\n",
    "    state.name,\n",
    "    portfolio_statistics=state.stats.portfolio,\n",
    "    all_cash=state.portfolio.get_initial_deposit(),\n",
    "    buy_and_hold_asset_name=traded_pair.base_token_symbol,\n",
    "    buy_and_hold_price_series=universe.universe.candles.get_single_pair_data()[\"close\"],\n",
    "    start_at=START_AT,\n",
    "    end_at=END_AT,\n",
    "    height=800\n",
    ")\n",
    "\n",
    "fig.show()"
   ]
  },
  {
   "cell_type": "markdown",
   "metadata": {},
   "source": [
    "## Analysing  the strategy success\n",
    "\n",
    "Here we calculate statistics on how well the strategy performed.\n",
    "\n",
    "- Won/lost trades\n",
    "- Timeline of taken positions with color coding of trade performance\n"
   ]
  },
  {
   "cell_type": "code",
   "execution_count": null,
   "metadata": {
    "collapsed": false,
    "jupyter": {
     "outputs_hidden": false
    }
   },
   "outputs": [],
   "source": [
    "from tradeexecutor.analysis.trade_analyser import build_trade_analysis\n",
    "\n",
    "analysis = build_trade_analysis(state.portfolio)"
   ]
  },
  {
   "cell_type": "markdown",
   "metadata": {},
   "source": [
    "### Strategy summary\n",
    "\n",
    "Overview of strategy performance\n",
    "\n"
   ]
  },
  {
   "cell_type": "code",
   "execution_count": null,
   "metadata": {
    "collapsed": false,
    "jupyter": {
     "outputs_hidden": false
    }
   },
   "outputs": [],
   "source": [
    "from IPython.core.display_functions import display\n",
    "\n",
    "summary = analysis.calculate_summary_statistics()\n",
    "\n",
    "with pd.option_context(\"display.max_row\", None):\n",
    "    display(summary.to_dataframe())"
   ]
  },
  {
   "cell_type": "markdown",
   "metadata": {},
   "source": [
    "### Position and trade timeline\n",
    "\n",
    "Display all positions and how much profit they made."
   ]
  },
  {
   "cell_type": "code",
   "execution_count": null,
   "metadata": {
    "collapsed": false,
    "jupyter": {
     "outputs_hidden": false
    }
   },
   "outputs": [],
   "source": [
    "from tradeexecutor.analysis.trade_analyser import expand_timeline\n",
    "\n",
    "timeline = analysis.create_timeline()\n",
    "\n",
    "expanded_timeline, apply_styles = expand_timeline(\n",
    "        universe.universe.exchanges,\n",
    "        universe.universe.pairs,\n",
    "        timeline)\n",
    "\n",
    "# Do not truncate the row output\n",
    "with pd.option_context(\"display.max_row\", None):\n",
    "    display(apply_styles(expanded_timeline))\n"
   ]
  },
  {
   "cell_type": "markdown",
   "metadata": {},
   "source": [
    "## Finishing notes\n",
    "\n",
    "Print out a line to signal the notebook finished the execution successfully."
   ]
  },
  {
   "cell_type": "code",
   "execution_count": null,
   "metadata": {
    "collapsed": false,
    "jupyter": {
     "outputs_hidden": false
    }
   },
   "outputs": [],
   "source": [
    "print(\"All ok\")"
   ]
  }
 ],
 "metadata": {
  "kernelspec": {
   "display_name": "Python 3.10.6 ('trade-executor-zDrfc5oV-py3.10')",
   "language": "python",
   "name": "python3"
  },
  "language_info": {
   "codemirror_mode": {
    "name": "ipython",
    "version": 3
   },
   "file_extension": ".py",
   "mimetype": "text/x-python",
   "name": "python",
   "nbconvert_exporter": "python",
   "pygments_lexer": "ipython3",
   "version": "3.10.10"
  },
  "vscode": {
   "interpreter": {
    "hash": "f45fb66dacef78c495ceec56f258b06b84bd9cb2c0a9a6d3656125fb3c018996"
   }
  }
 },
 "nbformat": 4,
 "nbformat_minor": 4
}
