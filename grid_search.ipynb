{
 "cells": [
  {
   "attachments": {},
   "cell_type": "markdown",
   "metadata": {
    "tags": []
   },
   "source": [
    "# Grid search example\n",
    "\n",
    "This is a grid search example, modified the default Bollinger bands example.\n",
    "\n",
    "- Set up searchable strategy parameter and then generate a matrix of all possible combinations of these for a grid search\n",
    "\n",
    "- Perform parallel run to multiple backtests at the same time using a thread pool\n",
    "\n",
    "- Compare results\n",
    "\n",
    "For more details, see README.\n",
    "\n",
    "### Github notebook rendering issues\n",
    "\n",
    "**If you are viewing this file on Github**: The current Github online notebook viewer cannot render the interactive Plotly charts used in this notebook.\n",
    "To view the charts, you need to download run the notebook locally."
   ]
  },
  {
   "attachments": {},
   "cell_type": "markdown",
   "metadata": {
    "tags": []
   },
   "source": [
    "## Set up\n",
    "\n",
    "Set up the parameters used in in this strategy backtest study.\n",
    "\n",
    "- Unlike in a fixed parameter strategy study, we define some of the strategy parameters as list of options\n",
    "- We later createa a grid search matrix which will go through all the combinations of these options"
   ]
  },
  {
   "cell_type": "code",
   "execution_count": 1,
   "metadata": {
    "collapsed": false,
    "jupyter": {
     "outputs_hidden": false
    }
   },
   "outputs": [],
   "source": [
    "import datetime\n",
    "\n",
    "from tradingstrategy.chain import ChainId\n",
    "from tradingstrategy.timebucket import TimeBucket\n",
    "from tradeexecutor.strategy.cycle import CycleDuration\n",
    "from tradeexecutor.strategy.strategy_module import TradeRouting, ReserveCurrency\n",
    "\n",
    "#\n",
    "# Strategy properties\n",
    "# \n",
    "\n",
    "STRATEGY_NAME = \"Bollinger bands example\"\n",
    "\n",
    "# How our trades are routed.\n",
    "TRADE_ROUTING = TradeRouting.trader_joe_usdc\n",
    "\n",
    "# How often the strategy performs the decide_trades cycle.\n",
    "TRADING_STRATEGY_CYCLE = CycleDuration.cycle_4h\n",
    "\n",
    "# Time bucket for our candles\n",
    "CANDLE_TIME_BUCKET = TimeBucket.h4\n",
    "\n",
    "# Candle time granularity we use to trigger stop loss checks\n",
    "STOP_LOSS_TIME_BUCKET = TimeBucket.m15\n",
    "\n",
    "# Strategy keeps its cash in USDC\n",
    "RESERVE_CURRENCY = ReserveCurrency.usdc\n",
    "\n",
    "# Which trading pair we are backtesting on\n",
    "# (Might be different from the live trading pair)\n",
    "# https://tradingstrategy.ai/trading-view/polygon/quickswap/eth-usdc\n",
    "TRADING_PAIR = (ChainId.avalanche, \"trader-joe\", \"WAVAX\", \"USDC\")\n",
    "\n",
    "# How much % of the cash to put on a single trade\n",
    "POSITION_SIZE = 0.50\n",
    "\n",
    "# Start with this amount of USD\n",
    "INITIAL_DEPOSIT = 5_000\n",
    "\n",
    "#\n",
    "# Strategy inputs\n",
    "#\n",
    "\n",
    "# How many candles we load in the decide_trades() function for calculating indicators\n",
    "LOOKBACK_WINDOW = 90\n",
    "\n",
    "# How many candles we use to calculate the Relative Strength Indicator\n",
    "RSI_LENGTH = 14\n",
    "\n",
    "#\n",
    "# Grid searched parameters\n",
    "#\n",
    "\n",
    "# Bollinger band's standard deviation options\n",
    "#\n",
    "STDDEV = [1.0, 1.5, 1.7, 2.0]\n",
    "\n",
    "# RSI must be above this value to open a new position.\n",
    "RSI_THRESHOLD = [55, 65, 75, 85]\n",
    "\n",
    "# What's the moving average length in candles for Bollinger bands\n",
    "MOVING_AVERAGE_LENGTH = [7, 14, 20]\n",
    "\n",
    "# Backtest range\n",
    "#\n",
    "# Note that for this example notebook we deliberately choose a very short period,\n",
    "# as the backtest completes faster, charts are more readable\n",
    "# and tables shorter for the demostration.\n",
    "#\n",
    "START_AT = datetime.datetime(2022, 3, 1)\n",
    "\n",
    "# Backtest range\n",
    "END_AT = datetime.datetime(2022, 10, 1)\n",
    "\n",
    "# Stop loss relative to the mid price during the time when the position is opened\n",
    "#\n",
    "# If the price drops below this level, trigger a stop loss\n",
    "STOP_LOSS_PCT = 0.98\n"
   ]
  },
  {
   "attachments": {},
   "cell_type": "markdown",
   "metadata": {},
   "source": [
    "## Strategy logic and trade decisions\n",
    "\n",
    "- `decide_trades()` function decide what trades to take.\n",
    "- As this is a grid search example, we nest `decide_trades()` within `grid_search_worker()`.\n",
    "- `grid_search_worker()` is responsible for getting the combination inputs from the grid search manager\n",
    "  and then setting up `decide_trades()` with its dynamic parameters.\n",
    "- We do not plot any visualisations like upper and lower band like we do in individual strategy analysis;\n",
    "  plotting takes time and this information is not relevant for grid search analysis in this point.\n",
    "\n",
    "***Note**: We have lowercased the grid searched parameter names here. In most programming languages,\n",
    "uppercased variables are constant and lowercased dynamic. Because grid searcher parameters are now dynamic,\n",
    "we use snake case to notate them to differ them from constants."
   ]
  },
  {
   "cell_type": "code",
   "execution_count": 2,
   "metadata": {
    "collapsed": false,
    "jupyter": {
     "outputs_hidden": false
    }
   },
   "outputs": [],
   "source": [
    "from typing import List, Dict\n",
    "\n",
    "import pandas as pd\n",
    "from pandas_ta import bbands\n",
    "from pandas_ta.momentum import rsi\n",
    "\n",
    "from tradingstrategy.universe import Universe\n",
    "\n",
    "from tradeexecutor.state.trade import TradeExecution\n",
    "from tradeexecutor.strategy.pricing_model import PricingModel\n",
    "from tradeexecutor.strategy.pandas_trader.position_manager import PositionManager\n",
    "from tradeexecutor.state.state import State\n",
    "from tradeexecutor.backtest.grid_search import GridCombination, GridSearchResult\n",
    "from tradeexecutor.backtest.grid_search import run_grid_search_backtest\n",
    "from tradeexecutor.strategy.trading_strategy_universe import TradingStrategyUniverse\n",
    "\n",
    "\n",
    "def grid_search_worker(\n",
    "        universe: TradingStrategyUniverse,\n",
    "        combination: GridCombination,\n",
    ") -> GridSearchResult:\n",
    "    \"\"\"Run a backtest for a single grid combination.\"\"\"\n",
    "\n",
    "    # Open grid search options as they are given in the setup later.\n",
    "    # The order here *must be* the same as given for prepare_grid_combinations()\n",
    "    rsi_threshold, stddev, moving_average_length = combination.destructure()\n",
    "\n",
    "    def decide_trades(\n",
    "            timestamp: pd.Timestamp,\n",
    "            universe: Universe,\n",
    "            state: State,\n",
    "            pricing_model: PricingModel,\n",
    "            cycle_debug_data: Dict) -> List[TradeExecution]:\n",
    "    \n",
    "        # Trades generated in this cycle\n",
    "        trades = []\n",
    "\n",
    "        # We have only a single trading pair for this strategy.\n",
    "        pair = universe.pairs.get_single()\n",
    "\n",
    "        # Here we manipulate the pair trading fee.\n",
    "        #\n",
    "        # A live trading would happen on TraderJoe AVAX-USDC pool with 0.20% LP fee.\n",
    "        # https://traderjoexyz.com/avalanche/pool/v21/AVAX/0xb97ef9ef8734c71904d8002f8b6bc66dd9c48a6e/20\n",
    "        # But this pool was deployed only couple of weeks back, so we do not have backtesting history for it.\n",
    "        # Thus, we are backtesting with the old pair with 0.30% LP fee tier for more data.\n",
    "        # We then manually bump down the fee tier to reflect the live trading situation.\n",
    "        pair.fee = 0.0020\n",
    "\n",
    "        # How much cash we have in a hand\n",
    "        cash = state.portfolio.get_current_cash()\n",
    "\n",
    "        # Get OHLCV candles for our trading pair as Pandas Dataframe.\n",
    "        # We could have candles for multiple trading pairs in a different strategy,\n",
    "        # but this strategy only operates on single pair candle.\n",
    "        # We also limit our sample size to N latest candles to speed up calculations.\n",
    "        candles: pd.DataFrame = universe.candles.get_single_pair_data(timestamp, sample_count=LOOKBACK_WINDOW)\n",
    "\n",
    "        if len(candles) == 0:\n",
    "            # We are looking back so far in the history that the pair is not trading yet\n",
    "            return trades\n",
    "\n",
    "        # We have data for open, high, close, etc.\n",
    "        # We only operate using candle close values in this strategy.\n",
    "        close_prices = candles[\"close\"]\n",
    "\n",
    "        price_latest = close_prices.iloc[-1]\n",
    "\n",
    "        # Create a position manager helper class that allows us easily to create\n",
    "        # opening/closing trades for different positions\n",
    "        position_manager = PositionManager(timestamp, universe, state, pricing_model)\n",
    "\n",
    "        # Calculate RSI for candle close\n",
    "        # https://tradingstrategy.ai/docs/programming/api/technical-analysis/momentum/help/pandas_ta.momentum.rsi.html#rsi\n",
    "        rsi_series = rsi(close_prices, length=RSI_LENGTH)\n",
    "        if rsi_series is None:\n",
    "            # Not enough data in the backtesting buffer yet\n",
    "            return trades\n",
    "\n",
    "        # Calculate Bollinger Bands with a 20-day SMA and 2 standard deviations using pandas_ta\n",
    "        # See documentation here https://tradingstrategy.ai/docs/programming/api/technical-analysis/volatility/help/pandas_ta.volatility.bbands.html#bbands\n",
    "        bollinger_bands = bbands(close_prices, length=moving_average_length, std=stddev)\n",
    "\n",
    "        if bollinger_bands is None:\n",
    "            # Not enough data in the backtesting buffer yet\n",
    "            return trades\n",
    "\n",
    "        # bbands() returns a dictionary of items with different name mangling\n",
    "        bb_upper = bollinger_bands[f\"BBU_{moving_average_length}_{stddev}\"]\n",
    "        bb_lower = bollinger_bands[f\"BBL_{moving_average_length}_{stddev}\"]\n",
    "        bb_mid = bollinger_bands[f\"BBM_{moving_average_length}_{stddev}\"]  # Moving average\n",
    "\n",
    "        if not position_manager.is_any_open():\n",
    "            # No open positions, decide if BUY in this cycle.\n",
    "            # We buy if the price on the daily chart closes above the upper Bollinger Band.\n",
    "            if price_latest > bb_upper.iloc[-1] and rsi_series[-1] >= rsi_threshold:\n",
    "                buy_amount = cash * POSITION_SIZE\n",
    "                trades += position_manager.open_1x_long(\n",
    "                    pair, \n",
    "                    buy_amount, \n",
    "                    stop_loss_pct=STOP_LOSS_PCT)\n",
    "\n",
    "        else:\n",
    "            # We have an open position, decide if SELL in this cycle.\n",
    "            # We close the position when the price closes below the 20-day moving average.        \n",
    "            if price_latest < bb_mid.iloc[-1]:\n",
    "                trades += position_manager.close_all()\n",
    "\n",
    "        return trades\n",
    "    \n",
    "    return run_grid_search_backtest(\n",
    "        combination,\n",
    "        decide_trades,\n",
    "        universe,\n",
    "        start_at=START_AT,\n",
    "        end_at=END_AT,\n",
    "        cycle_duration=TRADING_STRATEGY_CYCLE,\n",
    "    )    "
   ]
  },
  {
   "attachments": {},
   "cell_type": "markdown",
   "metadata": {},
   "source": [
    "## Defining the trading universe\n",
    "\n",
    "We create a trading universe with a single blockchain, single exchange and a single trading pair.\n",
    "\n",
    "Trading Strategy framework supports complex strategies, spanning thousands of pairs and lending pools,\n",
    "but we are not interested in this example."
   ]
  },
  {
   "cell_type": "code",
   "execution_count": 3,
   "metadata": {
    "collapsed": false,
    "jupyter": {
     "outputs_hidden": false
    }
   },
   "outputs": [],
   "source": [
    "import datetime\n",
    "from tradingstrategy.client import Client\n",
    "from tradeexecutor.strategy.trading_strategy_universe import load_pair_data_for_single_exchange, TradingStrategyUniverse\n",
    "from tradeexecutor.strategy.execution_context import ExecutionContext\n",
    "from tradeexecutor.strategy.universe_model import UniverseOptions\n",
    "\n",
    "\n",
    "def create_single_pair_trading_universe(\n",
    "        ts: datetime.datetime,\n",
    "        client: Client,\n",
    "        execution_context: ExecutionContext,\n",
    "        universe_options: UniverseOptions,\n",
    ") -> TradingStrategyUniverse:\n",
    "    \n",
    "    # Fetch backtesting datasets from the server \n",
    "    dataset = load_pair_data_for_single_exchange(\n",
    "        client,\n",
    "        time_bucket=CANDLE_TIME_BUCKET,\n",
    "        pair_tickers=[TRADING_PAIR],\n",
    "        execution_context=execution_context,        \n",
    "        universe_options=universe_options,\n",
    "        stop_loss_time_bucket=STOP_LOSS_TIME_BUCKET,\n",
    "    )\n",
    "\n",
    "    # Convert loaded data to a trading pair universe\n",
    "    universe = TradingStrategyUniverse.create_single_pair_universe(\n",
    "        dataset,\n",
    "        pair=TRADING_PAIR,\n",
    "    )\n",
    "\n",
    "    return universe"
   ]
  },
  {
   "cell_type": "markdown",
   "metadata": {},
   "source": [
    "## Set up the market data client\n",
    "\n",
    "The [Trading Strategy market data client](https://tradingstrategy.ai/docs/programming/api/client/index.html)\n",
    "is the Python library responsible for managing the data feeds needed to run the backtest.None\n",
    "\n",
    "We set up the market data client with an API key.\n",
    "\n",
    "[If you do not have an API key yet, you can register one](https://tradingstrategy.ai/trading-view/backtesting)."
   ]
  },
  {
   "cell_type": "code",
   "execution_count": 4,
   "metadata": {
    "collapsed": false,
    "jupyter": {
     "outputs_hidden": false
    }
   },
   "outputs": [
    {
     "name": "stdout",
     "output_type": "stream",
     "text": [
      "Started Trading Strategy in Jupyter notebook environment, configuration is stored in /Users/moo/.tradingstrategy\n"
     ]
    }
   ],
   "source": [
    "from tradingstrategy.client import Client\n",
    "\n",
    "client = Client.create_jupyter_client()"
   ]
  },
  {
   "attachments": {},
   "cell_type": "markdown",
   "metadata": {},
   "source": [
    "## Load data\n",
    "\n",
    "This will pull JSONL data feed for the trading pair from Trading Strategy oracle node."
   ]
  },
  {
   "cell_type": "code",
   "execution_count": 5,
   "metadata": {},
   "outputs": [
    {
     "name": "stdout",
     "output_type": "stream",
     "text": [
      "We loaded 3,004 candles.\n"
     ]
    }
   ],
   "source": [
    "from tradeexecutor.strategy.execution_context import ExecutionMode\n",
    "from tradeexecutor.strategy.universe_model import UniverseOptions\n",
    "\n",
    "universe = create_single_pair_trading_universe(\n",
    "    END_AT,\n",
    "    client,\n",
    "    ExecutionContext(mode=ExecutionMode.data_preload),\n",
    "    UniverseOptions()\n",
    ")\n",
    "print(f\"We loaded {universe.universe.candles.get_candle_count():,} candles.\")"
   ]
  },
  {
   "attachments": {},
   "cell_type": "markdown",
   "metadata": {},
   "source": [
    "## Prepare grid search\n",
    "\n",
    "We prepare the grid search\n",
    "\n",
    "- By definiting the strategy parameter search space\n",
    "\n",
    "- Setting up the file system folder where the strategy run results are stored. The framework caches\n",
    "  the results on disk, so that if the grid search is aborted, it can later resume and long operation results are not lost.\n",
    "\n",
    "- If the grid search results already exist, the backtesting phase is skipped altogether and notebook directly jumps to analysis\n",
    "\n",
    "- To make the analysis easier to read, you should choose the parameter with the most options, or most dominating, to be the first one\n",
    "\n",
    "**Note**: If you change the strategy logic, or fixed parameters, you need to clear the cache folder with `clear_cached_results` setting:\n",
    "\n",
    "```python\n",
    "combinations = prepare_grid_combinations(parameters, storage_folder, clear_cached_results=True)\n",
    "```\n",
    "\n",
    "Otherwise the grid searcher will use the existing stored results and does not rerun your tests with the changed code."
   ]
  },
  {
   "cell_type": "code",
   "execution_count": 6,
   "metadata": {},
   "outputs": [
    {
     "name": "stdout",
     "output_type": "stream",
     "text": [
      "We prepared 48 grid search combinations\n"
     ]
    }
   ],
   "source": [
    "from pathlib import Path\n",
    "\n",
    "from tradeexecutor.backtest.grid_search import prepare_grid_combinations\n",
    "\n",
    "# This is the path where we keep the result files around\n",
    "storage_folder = Path(\"/tmp/{STRATEGY_NAME}\")\n",
    "\n",
    "parameters = {\n",
    "    \"rsi_threshold\": RSI_THRESHOLD,\n",
    "    \"stddev\": STDDEV,    \n",
    "    \"moving_average_length\": MOVING_AVERAGE_LENGTH,\n",
    "}\n",
    "combinations = prepare_grid_combinations(parameters, storage_folder)\n",
    "print(f\"We prepared {len(combinations)} grid search combinations\")"
   ]
  },
  {
   "attachments": {},
   "cell_type": "markdown",
   "metadata": {},
   "source": [
    "## Run grid search\n",
    "\n",
    "Run backtest using giving trading universe and grid search worker function.\n",
    "\n",
    "- Currently this runs in a threaded mode, which is memory optimised but not throughput optimised, for Python\n",
    "- Increasing `max_workers` may not yield to speed gains"
   ]
  },
  {
   "cell_type": "code",
   "execution_count": 7,
   "metadata": {
    "collapsed": false,
    "jupyter": {
     "outputs_hidden": false
    }
   },
   "outputs": [],
   "source": [
    "from tradeexecutor.backtest.grid_search import perform_grid_search\n",
    "\n",
    "grid_search_results = perform_grid_search(\n",
    "    grid_search_worker,\n",
    "    universe,\n",
    "    combinations,  \n",
    "    max_workers=4,  \n",
    ")\n"
   ]
  },
  {
   "attachments": {},
   "cell_type": "markdown",
   "metadata": {},
   "source": [
    "## Analysing the grid search results\n",
    "\n",
    "We examine the different grid search data.\n"
   ]
  },
  {
   "cell_type": "code",
   "execution_count": 8,
   "metadata": {
    "collapsed": false,
    "jupyter": {
     "outputs_hidden": false
    }
   },
   "outputs": [
    {
     "name": "stdout",
     "output_type": "stream",
     "text": [
      "Grid search combinations available: 48\n"
     ]
    }
   ],
   "source": [
    "# Set Jupyter Notebook output mode parameters\n",
    "from tradeexecutor.backtest.notebook import setup_charting_and_output\n",
    "setup_charting_and_output()\n",
    "\n",
    "# Print extension of our backtest\n",
    "print(f\"Grid search combinations available: {len(grid_search_results)}\")"
   ]
  },
  {
   "attachments": {},
   "cell_type": "markdown",
   "metadata": {},
   "source": [
    "### Grid combination table\n",
    "\n",
    "Show the result of all combinations in a single table.\n"
   ]
  },
  {
   "cell_type": "code",
   "execution_count": 9,
   "metadata": {},
   "outputs": [
    {
     "data": {
      "text/html": [
       "<style type=\"text/css\">\n",
       "#T_34052_row0_col1, #T_34052_row2_col2, #T_34052_row2_col5, #T_34052_row9_col3, #T_34052_row26_col4, #T_34052_row29_col4, #T_34052_row32_col4 {\n",
       "  background-color: #fff7fb;\n",
       "  color: #000000;\n",
       "  background-color: pink;\n",
       "}\n",
       "#T_34052_row0_col2, #T_34052_row5_col2, #T_34052_row9_col1, #T_34052_row17_col5 {\n",
       "  background-color: #ede8f3;\n",
       "  color: #000000;\n",
       "}\n",
       "#T_34052_row0_col3, #T_34052_row21_col1 {\n",
       "  background-color: #d1d2e6;\n",
       "  color: #000000;\n",
       "}\n",
       "#T_34052_row0_col4 {\n",
       "  background-color: #8bb2d4;\n",
       "  color: #000000;\n",
       "}\n",
       "#T_34052_row0_col5, #T_34052_row1_col2 {\n",
       "  background-color: #f3edf5;\n",
       "  color: #000000;\n",
       "}\n",
       "#T_34052_row1_col1 {\n",
       "  background-color: #96b6d7;\n",
       "  color: #000000;\n",
       "}\n",
       "#T_34052_row1_col3, #T_34052_row7_col4 {\n",
       "  background-color: #3991c1;\n",
       "  color: #f1f1f1;\n",
       "}\n",
       "#T_34052_row1_col4 {\n",
       "  background-color: #4496c3;\n",
       "  color: #f1f1f1;\n",
       "}\n",
       "#T_34052_row1_col5, #T_34052_row3_col5, #T_34052_row4_col5 {\n",
       "  background-color: #f7f0f7;\n",
       "  color: #000000;\n",
       "}\n",
       "#T_34052_row2_col1 {\n",
       "  background-color: #e4e1ef;\n",
       "  color: #000000;\n",
       "}\n",
       "#T_34052_row2_col3 {\n",
       "  background-color: #83afd3;\n",
       "  color: #f1f1f1;\n",
       "}\n",
       "#T_34052_row2_col4, #T_34052_row5_col4 {\n",
       "  background-color: #7bacd1;\n",
       "  color: #f1f1f1;\n",
       "}\n",
       "#T_34052_row3_col1, #T_34052_row5_col1, #T_34052_row9_col4 {\n",
       "  background-color: #d4d4e8;\n",
       "  color: #000000;\n",
       "}\n",
       "#T_34052_row3_col2 {\n",
       "  background-color: #d2d3e7;\n",
       "  color: #000000;\n",
       "}\n",
       "#T_34052_row3_col3 {\n",
       "  background-color: #97b7d7;\n",
       "  color: #000000;\n",
       "}\n",
       "#T_34052_row3_col4, #T_34052_row8_col4 {\n",
       "  background-color: #78abd0;\n",
       "  color: #f1f1f1;\n",
       "}\n",
       "#T_34052_row4_col1 {\n",
       "  background-color: #86b0d3;\n",
       "  color: #000000;\n",
       "}\n",
       "#T_34052_row4_col2 {\n",
       "  background-color: #c6cce3;\n",
       "  color: #000000;\n",
       "}\n",
       "#T_34052_row4_col3, #T_34052_row34_col3 {\n",
       "  background-color: #358fc0;\n",
       "  color: #f1f1f1;\n",
       "}\n",
       "#T_34052_row4_col4, #T_34052_row21_col2 {\n",
       "  background-color: #4295c3;\n",
       "  color: #f1f1f1;\n",
       "}\n",
       "#T_34052_row5_col3 {\n",
       "  background-color: #79abd0;\n",
       "  color: #f1f1f1;\n",
       "}\n",
       "#T_34052_row5_col5, #T_34052_row6_col5, #T_34052_row7_col5, #T_34052_row8_col5, #T_34052_row10_col5, #T_34052_row21_col3 {\n",
       "  background-color: #f6eff7;\n",
       "  color: #000000;\n",
       "}\n",
       "#T_34052_row6_col1 {\n",
       "  background-color: #a1bbda;\n",
       "  color: #000000;\n",
       "}\n",
       "#T_34052_row6_col2, #T_34052_row6_col3 {\n",
       "  background-color: #69a5cc;\n",
       "  color: #f1f1f1;\n",
       "}\n",
       "#T_34052_row6_col4 {\n",
       "  background-color: #5c9fc9;\n",
       "  color: #f1f1f1;\n",
       "}\n",
       "#T_34052_row7_col1 {\n",
       "  background-color: #6da6cd;\n",
       "  color: #f1f1f1;\n",
       "}\n",
       "#T_34052_row7_col2, #T_34052_row12_col2 {\n",
       "  background-color: #7dacd1;\n",
       "  color: #f1f1f1;\n",
       "}\n",
       "#T_34052_row7_col3 {\n",
       "  background-color: #2685bb;\n",
       "  color: #f1f1f1;\n",
       "}\n",
       "#T_34052_row8_col1 {\n",
       "  background-color: #bbc7e0;\n",
       "  color: #000000;\n",
       "}\n",
       "#T_34052_row8_col2 {\n",
       "  background-color: #abbfdc;\n",
       "  color: #000000;\n",
       "}\n",
       "#T_34052_row8_col3 {\n",
       "  background-color: #65a3cb;\n",
       "  color: #f1f1f1;\n",
       "}\n",
       "#T_34052_row9_col2 {\n",
       "  background-color: #8cb3d5;\n",
       "  color: #000000;\n",
       "}\n",
       "#T_34052_row9_col5, #T_34052_row11_col5, #T_34052_row21_col5 {\n",
       "  background-color: #f8f1f8;\n",
       "  color: #000000;\n",
       "}\n",
       "#T_34052_row10_col1 {\n",
       "  background-color: #1b7eb7;\n",
       "  color: #f1f1f1;\n",
       "}\n",
       "#T_34052_row10_col2, #T_34052_row18_col2 {\n",
       "  background-color: #569dc8;\n",
       "  color: #f1f1f1;\n",
       "}\n",
       "#T_34052_row10_col3, #T_34052_row14_col3 {\n",
       "  background-color: #0569a4;\n",
       "  color: #f1f1f1;\n",
       "}\n",
       "#T_34052_row10_col4, #T_34052_row22_col1 {\n",
       "  background-color: #0a73b2;\n",
       "  color: #f1f1f1;\n",
       "}\n",
       "#T_34052_row11_col1, #T_34052_row26_col3, #T_34052_row29_col3, #T_34052_row32_col3 {\n",
       "  background-color: #b4c4df;\n",
       "  color: #000000;\n",
       "}\n",
       "#T_34052_row11_col2 {\n",
       "  background-color: #9cb9d9;\n",
       "  color: #000000;\n",
       "}\n",
       "#T_34052_row11_col3 {\n",
       "  background-color: #71a8ce;\n",
       "  color: #f1f1f1;\n",
       "}\n",
       "#T_34052_row11_col4 {\n",
       "  background-color: #7eadd1;\n",
       "  color: #f1f1f1;\n",
       "}\n",
       "#T_34052_row12_col1 {\n",
       "  background-color: #d0d1e6;\n",
       "  color: #000000;\n",
       "}\n",
       "#T_34052_row12_col3 {\n",
       "  background-color: #a4bcda;\n",
       "  color: #000000;\n",
       "}\n",
       "#T_34052_row12_col4, #T_34052_row35_col3 {\n",
       "  background-color: #8fb4d6;\n",
       "  color: #000000;\n",
       "}\n",
       "#T_34052_row12_col5, #T_34052_row23_col5 {\n",
       "  background-color: #efe9f3;\n",
       "  color: #000000;\n",
       "}\n",
       "#T_34052_row13_col1 {\n",
       "  background-color: #1077b4;\n",
       "  color: #f1f1f1;\n",
       "}\n",
       "#T_34052_row13_col2, #T_34052_row16_col2 {\n",
       "  background-color: #308cbe;\n",
       "  color: #f1f1f1;\n",
       "}\n",
       "#T_34052_row13_col3 {\n",
       "  background-color: #04649e;\n",
       "  color: #f1f1f1;\n",
       "}\n",
       "#T_34052_row13_col4 {\n",
       "  background-color: #056fae;\n",
       "  color: #f1f1f1;\n",
       "}\n",
       "#T_34052_row13_col5, #T_34052_row18_col5, #T_34052_row22_col5 {\n",
       "  background-color: #fbf4f9;\n",
       "  color: #000000;\n",
       "}\n",
       "#T_34052_row14_col1 {\n",
       "  background-color: #197db7;\n",
       "  color: #f1f1f1;\n",
       "}\n",
       "#T_34052_row14_col2, #T_34052_row17_col2, #T_34052_row17_col4, #T_34052_row20_col2 {\n",
       "  background-color: #0567a2;\n",
       "  color: #f1f1f1;\n",
       "}\n",
       "#T_34052_row14_col4 {\n",
       "  background-color: #0570b0;\n",
       "  color: #f1f1f1;\n",
       "}\n",
       "#T_34052_row14_col5 {\n",
       "  background-color: #eee8f3;\n",
       "  color: #000000;\n",
       "}\n",
       "#T_34052_row15_col1 {\n",
       "  background-color: #bfc9e1;\n",
       "  color: #000000;\n",
       "}\n",
       "#T_34052_row15_col2 {\n",
       "  background-color: #2081b9;\n",
       "  color: #f1f1f1;\n",
       "}\n",
       "#T_34052_row15_col3 {\n",
       "  background-color: #a7bddb;\n",
       "  color: #000000;\n",
       "}\n",
       "#T_34052_row15_col4, #T_34052_row34_col4 {\n",
       "  background-color: #99b8d8;\n",
       "  color: #000000;\n",
       "}\n",
       "#T_34052_row15_col5, #T_34052_row19_col5 {\n",
       "  background-color: #faf3f9;\n",
       "  color: #000000;\n",
       "}\n",
       "#T_34052_row16_col1 {\n",
       "  background-color: #045a8d;\n",
       "  color: #f1f1f1;\n",
       "}\n",
       "#T_34052_row16_col3 {\n",
       "  background-color: #034f7d;\n",
       "  color: #f1f1f1;\n",
       "}\n",
       "#T_34052_row16_col4 {\n",
       "  background-color: #045788;\n",
       "  color: #f1f1f1;\n",
       "}\n",
       "#T_34052_row16_col5, #T_34052_row35_col4 {\n",
       "  background-color: #fbf3f9;\n",
       "  color: #000000;\n",
       "}\n",
       "#T_34052_row17_col1 {\n",
       "  background-color: #0872b1;\n",
       "  color: #f1f1f1;\n",
       "}\n",
       "#T_34052_row17_col3 {\n",
       "  background-color: #04639b;\n",
       "  color: #f1f1f1;\n",
       "}\n",
       "#T_34052_row18_col1 {\n",
       "  background-color: #dad9ea;\n",
       "  color: #000000;\n",
       "}\n",
       "#T_34052_row18_col3, #T_34052_row21_col4 {\n",
       "  background-color: #e8e4f0;\n",
       "  color: #000000;\n",
       "}\n",
       "#T_34052_row18_col4 {\n",
       "  background-color: #c2cbe2;\n",
       "  color: #000000;\n",
       "}\n",
       "#T_34052_row19_col1, #T_34052_row19_col3, #T_34052_row19_col4, #T_34052_row30_col2, #T_34052_row30_col5, #T_34052_row33_col2, #T_34052_row33_col5 {\n",
       "  background-color: #023858;\n",
       "  color: #f1f1f1;\n",
       "}\n",
       "#T_34052_row19_col2, #T_34052_row22_col2, #T_34052_row23_col2 {\n",
       "  background-color: #056ead;\n",
       "  color: #f1f1f1;\n",
       "}\n",
       "#T_34052_row20_col1 {\n",
       "  background-color: #046097;\n",
       "  color: #f1f1f1;\n",
       "}\n",
       "#T_34052_row20_col3, #T_34052_row25_col2, #T_34052_row28_col2, #T_34052_row31_col2, #T_34052_row35_col2 {\n",
       "  background-color: #04588a;\n",
       "  color: #f1f1f1;\n",
       "}\n",
       "#T_34052_row20_col4 {\n",
       "  background-color: #03517e;\n",
       "  color: #f1f1f1;\n",
       "}\n",
       "#T_34052_row20_col5 {\n",
       "  background-color: #f4edf6;\n",
       "  color: #000000;\n",
       "}\n",
       "#T_34052_row22_col3 {\n",
       "  background-color: #046299;\n",
       "  color: #f1f1f1;\n",
       "}\n",
       "#T_34052_row22_col4 {\n",
       "  background-color: #04649d;\n",
       "  color: #f1f1f1;\n",
       "}\n",
       "#T_34052_row23_col1 {\n",
       "  background-color: #045d92;\n",
       "  color: #f1f1f1;\n",
       "}\n",
       "#T_34052_row23_col3 {\n",
       "  background-color: #045280;\n",
       "  color: #f1f1f1;\n",
       "}\n",
       "#T_34052_row23_col4 {\n",
       "  background-color: #023f64;\n",
       "  color: #f1f1f1;\n",
       "}\n",
       "#T_34052_row24_col1, #T_34052_row27_col1 {\n",
       "  background-color: #67a4cc;\n",
       "  color: #f1f1f1;\n",
       "}\n",
       "#T_34052_row24_col2, #T_34052_row27_col2, #T_34052_row34_col2 {\n",
       "  background-color: #034369;\n",
       "  color: #f1f1f1;\n",
       "}\n",
       "#T_34052_row24_col3, #T_34052_row27_col3 {\n",
       "  background-color: #62a2cb;\n",
       "  color: #f1f1f1;\n",
       "}\n",
       "#T_34052_row24_col4, #T_34052_row27_col4 {\n",
       "  background-color: #9ab8d8;\n",
       "  color: #000000;\n",
       "}\n",
       "#T_34052_row24_col5, #T_34052_row27_col5 {\n",
       "  background-color: #5ea0ca;\n",
       "  color: #f1f1f1;\n",
       "}\n",
       "#T_34052_row25_col1, #T_34052_row28_col1, #T_34052_row31_col1, #T_34052_row35_col1 {\n",
       "  background-color: #88b1d4;\n",
       "  color: #000000;\n",
       "}\n",
       "#T_34052_row25_col3, #T_34052_row28_col3, #T_34052_row31_col3 {\n",
       "  background-color: #93b5d6;\n",
       "  color: #000000;\n",
       "}\n",
       "#T_34052_row25_col4, #T_34052_row28_col4, #T_34052_row31_col4 {\n",
       "  background-color: #e0dded;\n",
       "  color: #000000;\n",
       "}\n",
       "#T_34052_row25_col5, #T_34052_row26_col5, #T_34052_row28_col5, #T_34052_row29_col5, #T_34052_row31_col5, #T_34052_row32_col5 {\n",
       "  background-color: #f4eef6;\n",
       "  color: #000000;\n",
       "}\n",
       "#T_34052_row26_col1, #T_34052_row29_col1, #T_34052_row32_col1 {\n",
       "  background-color: #9fbad9;\n",
       "  color: #000000;\n",
       "}\n",
       "#T_34052_row26_col2, #T_34052_row29_col2, #T_34052_row32_col2 {\n",
       "  background-color: #046096;\n",
       "  color: #f1f1f1;\n",
       "}\n",
       "#T_34052_row30_col1, #T_34052_row33_col1 {\n",
       "  background-color: #4897c4;\n",
       "  color: #f1f1f1;\n",
       "}\n",
       "#T_34052_row30_col3, #T_34052_row33_col3 {\n",
       "  background-color: #2987bc;\n",
       "  color: #f1f1f1;\n",
       "}\n",
       "#T_34052_row30_col4, #T_34052_row33_col4 {\n",
       "  background-color: #509ac6;\n",
       "  color: #f1f1f1;\n",
       "}\n",
       "#T_34052_row34_col1 {\n",
       "  background-color: #549cc7;\n",
       "  color: #f1f1f1;\n",
       "}\n",
       "#T_34052_row34_col5 {\n",
       "  background-color: #046198;\n",
       "  color: #f1f1f1;\n",
       "}\n",
       "#T_34052_row35_col5 {\n",
       "  background-color: #f1ebf5;\n",
       "  color: #000000;\n",
       "}\n",
       "#T_34052_row36_col1, #T_34052_row36_col2, #T_34052_row36_col3, #T_34052_row36_col4, #T_34052_row36_col5, #T_34052_row37_col1, #T_34052_row37_col2, #T_34052_row37_col3, #T_34052_row37_col4, #T_34052_row37_col5, #T_34052_row38_col1, #T_34052_row38_col2, #T_34052_row38_col3, #T_34052_row38_col4, #T_34052_row38_col5, #T_34052_row39_col1, #T_34052_row39_col2, #T_34052_row39_col3, #T_34052_row39_col4, #T_34052_row39_col5, #T_34052_row40_col1, #T_34052_row40_col2, #T_34052_row40_col3, #T_34052_row40_col4, #T_34052_row40_col5, #T_34052_row41_col1, #T_34052_row41_col2, #T_34052_row41_col3, #T_34052_row41_col4, #T_34052_row41_col5, #T_34052_row42_col1, #T_34052_row42_col2, #T_34052_row42_col3, #T_34052_row42_col4, #T_34052_row42_col5, #T_34052_row43_col1, #T_34052_row43_col2, #T_34052_row43_col3, #T_34052_row43_col4, #T_34052_row43_col5, #T_34052_row44_col1, #T_34052_row44_col2, #T_34052_row44_col3, #T_34052_row44_col4, #T_34052_row44_col5, #T_34052_row45_col1, #T_34052_row45_col2, #T_34052_row45_col3, #T_34052_row45_col4, #T_34052_row45_col5, #T_34052_row46_col1, #T_34052_row46_col2, #T_34052_row46_col3, #T_34052_row46_col4, #T_34052_row46_col5, #T_34052_row47_col1, #T_34052_row47_col2, #T_34052_row47_col3, #T_34052_row47_col4, #T_34052_row47_col5 {\n",
       "  background-color: #000000;\n",
       "  color: #f1f1f1;\n",
       "}\n",
       "</style>\n",
       "<table id=\"T_34052\">\n",
       "  <thead>\n",
       "    <tr>\n",
       "      <th class=\"blank\" >&nbsp;</th>\n",
       "      <th class=\"blank\" >&nbsp;</th>\n",
       "      <th class=\"blank level0\" >&nbsp;</th>\n",
       "      <th id=\"T_34052_level0_col0\" class=\"col_heading level0 col0\" >Positions</th>\n",
       "      <th id=\"T_34052_level0_col1\" class=\"col_heading level0 col1\" >Annualised profit</th>\n",
       "      <th id=\"T_34052_level0_col2\" class=\"col_heading level0 col2\" >Max drawdown</th>\n",
       "      <th id=\"T_34052_level0_col3\" class=\"col_heading level0 col3\" >Sharpe</th>\n",
       "      <th id=\"T_34052_level0_col4\" class=\"col_heading level0 col4\" >Average position</th>\n",
       "      <th id=\"T_34052_level0_col5\" class=\"col_heading level0 col5\" >Median position</th>\n",
       "    </tr>\n",
       "    <tr>\n",
       "      <th class=\"index_name level0\" >rsi_threshold</th>\n",
       "      <th class=\"index_name level1\" >stddev</th>\n",
       "      <th class=\"index_name level2\" >moving_average_length</th>\n",
       "      <th class=\"blank col0\" >&nbsp;</th>\n",
       "      <th class=\"blank col1\" >&nbsp;</th>\n",
       "      <th class=\"blank col2\" >&nbsp;</th>\n",
       "      <th class=\"blank col3\" >&nbsp;</th>\n",
       "      <th class=\"blank col4\" >&nbsp;</th>\n",
       "      <th class=\"blank col5\" >&nbsp;</th>\n",
       "    </tr>\n",
       "  </thead>\n",
       "  <tbody>\n",
       "    <tr>\n",
       "      <th id=\"T_34052_level0_row0\" class=\"row_heading level0 row0\" rowspan=\"12\">55</th>\n",
       "      <th id=\"T_34052_level1_row0\" class=\"row_heading level1 row0\" rowspan=\"3\">1.000000</th>\n",
       "      <th id=\"T_34052_level2_row0\" class=\"row_heading level2 row0\" >7</th>\n",
       "      <td id=\"T_34052_row0_col0\" class=\"data row0 col0\" >54</td>\n",
       "      <td id=\"T_34052_row0_col1\" class=\"data row0 col1\" >-34.79%</td>\n",
       "      <td id=\"T_34052_row0_col2\" class=\"data row0 col2\" >-25.00%</td>\n",
       "      <td id=\"T_34052_row0_col3\" class=\"data row0 col3\" >-0.600000</td>\n",
       "      <td id=\"T_34052_row0_col4\" class=\"data row0 col4\" >-0.79%</td>\n",
       "      <td id=\"T_34052_row0_col5\" class=\"data row0 col5\" >-2.50%</td>\n",
       "    </tr>\n",
       "    <tr>\n",
       "      <th id=\"T_34052_level2_row1\" class=\"row_heading level2 row1\" >14</th>\n",
       "      <td id=\"T_34052_row1_col0\" class=\"data row1 col0\" >45</td>\n",
       "      <td id=\"T_34052_row1_col1\" class=\"data row1 col1\" >-10.89%</td>\n",
       "      <td id=\"T_34052_row1_col2\" class=\"data row1 col2\" >-26.00%</td>\n",
       "      <td id=\"T_34052_row1_col3\" class=\"data row1 col3\" >-0.100000</td>\n",
       "      <td id=\"T_34052_row1_col4\" class=\"data row1 col4\" >-0.21%</td>\n",
       "      <td id=\"T_34052_row1_col5\" class=\"data row1 col5\" >-2.55%</td>\n",
       "    </tr>\n",
       "    <tr>\n",
       "      <th id=\"T_34052_level2_row2\" class=\"row_heading level2 row2\" >20</th>\n",
       "      <td id=\"T_34052_row2_col0\" class=\"data row2 col0\" >45</td>\n",
       "      <td id=\"T_34052_row2_col1\" class=\"data row2 col1\" >-25.60%</td>\n",
       "      <td id=\"T_34052_row2_col2\" class=\"data row2 col2\" >-28.00%</td>\n",
       "      <td id=\"T_34052_row2_col3\" class=\"data row2 col3\" >-0.310000</td>\n",
       "      <td id=\"T_34052_row2_col4\" class=\"data row2 col4\" >-0.63%</td>\n",
       "      <td id=\"T_34052_row2_col5\" class=\"data row2 col5\" >-2.67%</td>\n",
       "    </tr>\n",
       "    <tr>\n",
       "      <th id=\"T_34052_level1_row3\" class=\"row_heading level1 row3\" rowspan=\"3\">1.500000</th>\n",
       "      <th id=\"T_34052_level2_row3\" class=\"row_heading level2 row3\" >7</th>\n",
       "      <td id=\"T_34052_row3_col0\" class=\"data row3 col0\" >41</td>\n",
       "      <td id=\"T_34052_row3_col1\" class=\"data row3 col1\" >-21.55%</td>\n",
       "      <td id=\"T_34052_row3_col2\" class=\"data row3 col2\" >-22.00%</td>\n",
       "      <td id=\"T_34052_row3_col3\" class=\"data row3 col3\" >-0.380000</td>\n",
       "      <td id=\"T_34052_row3_col4\" class=\"data row3 col4\" >-0.60%</td>\n",
       "      <td id=\"T_34052_row3_col5\" class=\"data row3 col5\" >-2.54%</td>\n",
       "    </tr>\n",
       "    <tr>\n",
       "      <th id=\"T_34052_level2_row4\" class=\"row_heading level2 row4\" >14</th>\n",
       "      <td id=\"T_34052_row4_col0\" class=\"data row4 col0\" >38</td>\n",
       "      <td id=\"T_34052_row4_col1\" class=\"data row4 col1\" >-8.71%</td>\n",
       "      <td id=\"T_34052_row4_col2\" class=\"data row4 col2\" >-21.00%</td>\n",
       "      <td id=\"T_34052_row4_col3\" class=\"data row4 col3\" >-0.090000</td>\n",
       "      <td id=\"T_34052_row4_col4\" class=\"data row4 col4\" >-0.20%</td>\n",
       "      <td id=\"T_34052_row4_col5\" class=\"data row4 col5\" >-2.54%</td>\n",
       "    </tr>\n",
       "    <tr>\n",
       "      <th id=\"T_34052_level2_row5\" class=\"row_heading level2 row5\" >20</th>\n",
       "      <td id=\"T_34052_row5_col0\" class=\"data row5 col0\" >38</td>\n",
       "      <td id=\"T_34052_row5_col1\" class=\"data row5 col1\" >-21.43%</td>\n",
       "      <td id=\"T_34052_row5_col2\" class=\"data row5 col2\" >-25.00%</td>\n",
       "      <td id=\"T_34052_row5_col3\" class=\"data row5 col3\" >-0.280000</td>\n",
       "      <td id=\"T_34052_row5_col4\" class=\"data row5 col4\" >-0.63%</td>\n",
       "      <td id=\"T_34052_row5_col5\" class=\"data row5 col5\" >-2.54%</td>\n",
       "    </tr>\n",
       "    <tr>\n",
       "      <th id=\"T_34052_level1_row6\" class=\"row_heading level1 row6\" rowspan=\"3\">1.700000</th>\n",
       "      <th id=\"T_34052_level2_row6\" class=\"row_heading level2 row6\" >7</th>\n",
       "      <td id=\"T_34052_row6_col0\" class=\"data row6 col0\" >34</td>\n",
       "      <td id=\"T_34052_row6_col1\" class=\"data row6 col1\" >-12.52%</td>\n",
       "      <td id=\"T_34052_row6_col2\" class=\"data row6 col2\" >-15.00%</td>\n",
       "      <td id=\"T_34052_row6_col3\" class=\"data row6 col3\" >-0.230000</td>\n",
       "      <td id=\"T_34052_row6_col4\" class=\"data row6 col4\" >-0.39%</td>\n",
       "      <td id=\"T_34052_row6_col5\" class=\"data row6 col5\" >-2.54%</td>\n",
       "    </tr>\n",
       "    <tr>\n",
       "      <th id=\"T_34052_level2_row7\" class=\"row_heading level2 row7\" >14</th>\n",
       "      <td id=\"T_34052_row7_col0\" class=\"data row7 col0\" >35</td>\n",
       "      <td id=\"T_34052_row7_col1\" class=\"data row7 col1\" >-5.42%</td>\n",
       "      <td id=\"T_34052_row7_col2\" class=\"data row7 col2\" >-16.00%</td>\n",
       "      <td id=\"T_34052_row7_col3\" class=\"data row7 col3\" >-0.040000</td>\n",
       "      <td id=\"T_34052_row7_col4\" class=\"data row7 col4\" >-0.11%</td>\n",
       "      <td id=\"T_34052_row7_col5\" class=\"data row7 col5\" >-2.54%</td>\n",
       "    </tr>\n",
       "    <tr>\n",
       "      <th id=\"T_34052_level2_row8\" class=\"row_heading level2 row8\" >20</th>\n",
       "      <td id=\"T_34052_row8_col0\" class=\"data row8 col0\" >30</td>\n",
       "      <td id=\"T_34052_row8_col1\" class=\"data row8 col1\" >-16.72%</td>\n",
       "      <td id=\"T_34052_row8_col2\" class=\"data row8 col2\" >-19.00%</td>\n",
       "      <td id=\"T_34052_row8_col3\" class=\"data row8 col3\" >-0.220000</td>\n",
       "      <td id=\"T_34052_row8_col4\" class=\"data row8 col4\" >-0.61%</td>\n",
       "      <td id=\"T_34052_row8_col5\" class=\"data row8 col5\" >-2.54%</td>\n",
       "    </tr>\n",
       "    <tr>\n",
       "      <th id=\"T_34052_level1_row9\" class=\"row_heading level1 row9\" rowspan=\"3\">2.000000</th>\n",
       "      <th id=\"T_34052_level2_row9\" class=\"row_heading level2 row9\" >7</th>\n",
       "      <td id=\"T_34052_row9_col0\" class=\"data row9 col0\" >22</td>\n",
       "      <td id=\"T_34052_row9_col1\" class=\"data row9 col1\" >-28.02%</td>\n",
       "      <td id=\"T_34052_row9_col2\" class=\"data row9 col2\" >-17.00%</td>\n",
       "      <td id=\"T_34052_row9_col3\" class=\"data row9 col3\" >-0.930000</td>\n",
       "      <td id=\"T_34052_row9_col4\" class=\"data row9 col4\" >-1.58%</td>\n",
       "      <td id=\"T_34052_row9_col5\" class=\"data row9 col5\" >-2.57%</td>\n",
       "    </tr>\n",
       "    <tr>\n",
       "      <th id=\"T_34052_level2_row10\" class=\"row_heading level2 row10\" >14</th>\n",
       "      <td id=\"T_34052_row10_col0\" class=\"data row10 col0\" >23</td>\n",
       "      <td id=\"T_34052_row10_col1\" class=\"data row10 col1\" >5.02%</td>\n",
       "      <td id=\"T_34052_row10_col2\" class=\"data row10 col2\" >-14.00%</td>\n",
       "      <td id=\"T_34052_row10_col3\" class=\"data row10 col3\" >0.130000</td>\n",
       "      <td id=\"T_34052_row10_col4\" class=\"data row10 col4\" >0.33%</td>\n",
       "      <td id=\"T_34052_row10_col5\" class=\"data row10 col5\" >-2.54%</td>\n",
       "    </tr>\n",
       "    <tr>\n",
       "      <th id=\"T_34052_level2_row11\" class=\"row_heading level2 row11\" >20</th>\n",
       "      <td id=\"T_34052_row11_col0\" class=\"data row11 col0\" >26</td>\n",
       "      <td id=\"T_34052_row11_col1\" class=\"data row11 col1\" >-15.69%</td>\n",
       "      <td id=\"T_34052_row11_col2\" class=\"data row11 col2\" >-18.00%</td>\n",
       "      <td id=\"T_34052_row11_col3\" class=\"data row11 col3\" >-0.250000</td>\n",
       "      <td id=\"T_34052_row11_col4\" class=\"data row11 col4\" >-0.66%</td>\n",
       "      <td id=\"T_34052_row11_col5\" class=\"data row11 col5\" >-2.56%</td>\n",
       "    </tr>\n",
       "    <tr>\n",
       "      <th id=\"T_34052_level0_row12\" class=\"row_heading level0 row12\" rowspan=\"12\">65</th>\n",
       "      <th id=\"T_34052_level1_row12\" class=\"row_heading level1 row12\" rowspan=\"3\">1.000000</th>\n",
       "      <th id=\"T_34052_level2_row12\" class=\"row_heading level2 row12\" >7</th>\n",
       "      <td id=\"T_34052_row12_col0\" class=\"data row12 col0\" >27</td>\n",
       "      <td id=\"T_34052_row12_col1\" class=\"data row12 col1\" >-20.30%</td>\n",
       "      <td id=\"T_34052_row12_col2\" class=\"data row12 col2\" >-16.00%</td>\n",
       "      <td id=\"T_34052_row12_col3\" class=\"data row12 col3\" >-0.420000</td>\n",
       "      <td id=\"T_34052_row12_col4\" class=\"data row12 col4\" >-0.82%</td>\n",
       "      <td id=\"T_34052_row12_col5\" class=\"data row12 col5\" >-2.44%</td>\n",
       "    </tr>\n",
       "    <tr>\n",
       "      <th id=\"T_34052_level2_row13\" class=\"row_heading level2 row13\" >14</th>\n",
       "      <td id=\"T_34052_row13_col0\" class=\"data row13 col0\" >21</td>\n",
       "      <td id=\"T_34052_row13_col1\" class=\"data row13 col1\" >6.44%</td>\n",
       "      <td id=\"T_34052_row13_col2\" class=\"data row13 col2\" >-12.00%</td>\n",
       "      <td id=\"T_34052_row13_col3\" class=\"data row13 col3\" >0.160000</td>\n",
       "      <td id=\"T_34052_row13_col4\" class=\"data row13 col4\" >0.40%</td>\n",
       "      <td id=\"T_34052_row13_col5\" class=\"data row13 col5\" >-2.62%</td>\n",
       "    </tr>\n",
       "    <tr>\n",
       "      <th id=\"T_34052_level2_row14\" class=\"row_heading level2 row14\" >20</th>\n",
       "      <td id=\"T_34052_row14_col0\" class=\"data row14 col0\" >17</td>\n",
       "      <td id=\"T_34052_row14_col1\" class=\"data row14 col1\" >5.10%</td>\n",
       "      <td id=\"T_34052_row14_col2\" class=\"data row14 col2\" >-8.00%</td>\n",
       "      <td id=\"T_34052_row14_col3\" class=\"data row14 col3\" >0.130000</td>\n",
       "      <td id=\"T_34052_row14_col4\" class=\"data row14 col4\" >0.37%</td>\n",
       "      <td id=\"T_34052_row14_col5\" class=\"data row14 col5\" >-2.42%</td>\n",
       "    </tr>\n",
       "    <tr>\n",
       "      <th id=\"T_34052_level1_row15\" class=\"row_heading level1 row15\" rowspan=\"3\">1.500000</th>\n",
       "      <th id=\"T_34052_level2_row15\" class=\"row_heading level2 row15\" >7</th>\n",
       "      <td id=\"T_34052_row15_col0\" class=\"data row15 col0\" >21</td>\n",
       "      <td id=\"T_34052_row15_col1\" class=\"data row15 col1\" >-17.51%</td>\n",
       "      <td id=\"T_34052_row15_col2\" class=\"data row15 col2\" >-11.00%</td>\n",
       "      <td id=\"T_34052_row15_col3\" class=\"data row15 col3\" >-0.430000</td>\n",
       "      <td id=\"T_34052_row15_col4\" class=\"data row15 col4\" >-0.91%</td>\n",
       "      <td id=\"T_34052_row15_col5\" class=\"data row15 col5\" >-2.60%</td>\n",
       "    </tr>\n",
       "    <tr>\n",
       "      <th id=\"T_34052_level2_row16\" class=\"row_heading level2 row16\" >14</th>\n",
       "      <td id=\"T_34052_row16_col0\" class=\"data row16 col0\" >18</td>\n",
       "      <td id=\"T_34052_row16_col1\" class=\"data row16 col1\" >15.16%</td>\n",
       "      <td id=\"T_34052_row16_col2\" class=\"data row16 col2\" >-12.00%</td>\n",
       "      <td id=\"T_34052_row16_col3\" class=\"data row16 col3\" >0.290000</td>\n",
       "      <td id=\"T_34052_row16_col4\" class=\"data row16 col4\" >0.89%</td>\n",
       "      <td id=\"T_34052_row16_col5\" class=\"data row16 col5\" >-2.61%</td>\n",
       "    </tr>\n",
       "    <tr>\n",
       "      <th id=\"T_34052_level2_row17\" class=\"row_heading level2 row17\" >20</th>\n",
       "      <td id=\"T_34052_row17_col0\" class=\"data row17 col0\" >16</td>\n",
       "      <td id=\"T_34052_row17_col1\" class=\"data row17 col1\" >7.62%</td>\n",
       "      <td id=\"T_34052_row17_col2\" class=\"data row17 col2\" >-8.00%</td>\n",
       "      <td id=\"T_34052_row17_col3\" class=\"data row17 col3\" >0.170000</td>\n",
       "      <td id=\"T_34052_row17_col4\" class=\"data row17 col4\" >0.56%</td>\n",
       "      <td id=\"T_34052_row17_col5\" class=\"data row17 col5\" >-2.42%</td>\n",
       "    </tr>\n",
       "    <tr>\n",
       "      <th id=\"T_34052_level1_row18\" class=\"row_heading level1 row18\" rowspan=\"3\">1.700000</th>\n",
       "      <th id=\"T_34052_level2_row18\" class=\"row_heading level2 row18\" >7</th>\n",
       "      <td id=\"T_34052_row18_col0\" class=\"data row18 col0\" >19</td>\n",
       "      <td id=\"T_34052_row18_col1\" class=\"data row18 col1\" >-22.98%</td>\n",
       "      <td id=\"T_34052_row18_col2\" class=\"data row18 col2\" >-14.00%</td>\n",
       "      <td id=\"T_34052_row18_col3\" class=\"data row18 col3\" >-0.740000</td>\n",
       "      <td id=\"T_34052_row18_col4\" class=\"data row18 col4\" >-1.36%</td>\n",
       "      <td id=\"T_34052_row18_col5\" class=\"data row18 col5\" >-2.62%</td>\n",
       "    </tr>\n",
       "    <tr>\n",
       "      <th id=\"T_34052_level2_row19\" class=\"row_heading level2 row19\" >14</th>\n",
       "      <td id=\"T_34052_row19_col0\" class=\"data row19 col0\" >17</td>\n",
       "      <td id=\"T_34052_row19_col1\" class=\"data row19 col1\" >22.51%</td>\n",
       "      <td id=\"T_34052_row19_col2\" class=\"data row19 col2\" >-9.00%</td>\n",
       "      <td id=\"T_34052_row19_col3\" class=\"data row19 col3\" >0.410000</td>\n",
       "      <td id=\"T_34052_row19_col4\" class=\"data row19 col4\" >1.33%</td>\n",
       "      <td id=\"T_34052_row19_col5\" class=\"data row19 col5\" >-2.60%</td>\n",
       "    </tr>\n",
       "    <tr>\n",
       "      <th id=\"T_34052_level2_row20\" class=\"row_heading level2 row20\" >20</th>\n",
       "      <td id=\"T_34052_row20_col0\" class=\"data row20 col0\" >14</td>\n",
       "      <td id=\"T_34052_row20_col1\" class=\"data row20 col1\" >13.30%</td>\n",
       "      <td id=\"T_34052_row20_col2\" class=\"data row20 col2\" >-8.00%</td>\n",
       "      <td id=\"T_34052_row20_col3\" class=\"data row20 col3\" >0.250000</td>\n",
       "      <td id=\"T_34052_row20_col4\" class=\"data row20 col4\" >0.98%</td>\n",
       "      <td id=\"T_34052_row20_col5\" class=\"data row20 col5\" >-2.51%</td>\n",
       "    </tr>\n",
       "    <tr>\n",
       "      <th id=\"T_34052_level1_row21\" class=\"row_heading level1 row21\" rowspan=\"3\">2.000000</th>\n",
       "      <th id=\"T_34052_level2_row21\" class=\"row_heading level2 row21\" >7</th>\n",
       "      <td id=\"T_34052_row21_col0\" class=\"data row21 col0\" >12</td>\n",
       "      <td id=\"T_34052_row21_col1\" class=\"data row21 col1\" >-20.63%</td>\n",
       "      <td id=\"T_34052_row21_col2\" class=\"data row21 col2\" >-13.00%</td>\n",
       "      <td id=\"T_34052_row21_col3\" class=\"data row21 col3\" >-0.850000</td>\n",
       "      <td id=\"T_34052_row21_col4\" class=\"data row21 col4\" >-1.93%</td>\n",
       "      <td id=\"T_34052_row21_col5\" class=\"data row21 col5\" >-2.56%</td>\n",
       "    </tr>\n",
       "    <tr>\n",
       "      <th id=\"T_34052_level2_row22\" class=\"row_heading level2 row22\" >14</th>\n",
       "      <td id=\"T_34052_row22_col0\" class=\"data row22 col0\" >13</td>\n",
       "      <td id=\"T_34052_row22_col1\" class=\"data row22 col1\" >7.35%</td>\n",
       "      <td id=\"T_34052_row22_col2\" class=\"data row22 col2\" >-9.00%</td>\n",
       "      <td id=\"T_34052_row22_col3\" class=\"data row22 col3\" >0.180000</td>\n",
       "      <td id=\"T_34052_row22_col4\" class=\"data row22 col4\" >0.64%</td>\n",
       "      <td id=\"T_34052_row22_col5\" class=\"data row22 col5\" >-2.62%</td>\n",
       "    </tr>\n",
       "    <tr>\n",
       "      <th id=\"T_34052_level2_row23\" class=\"row_heading level2 row23\" >20</th>\n",
       "      <td id=\"T_34052_row23_col0\" class=\"data row23 col0\" >12</td>\n",
       "      <td id=\"T_34052_row23_col1\" class=\"data row23 col1\" >14.29%</td>\n",
       "      <td id=\"T_34052_row23_col2\" class=\"data row23 col2\" >-9.00%</td>\n",
       "      <td id=\"T_34052_row23_col3\" class=\"data row23 col3\" >0.280000</td>\n",
       "      <td id=\"T_34052_row23_col4\" class=\"data row23 col4\" >1.21%</td>\n",
       "      <td id=\"T_34052_row23_col5\" class=\"data row23 col5\" >-2.44%</td>\n",
       "    </tr>\n",
       "    <tr>\n",
       "      <th id=\"T_34052_level0_row24\" class=\"row_heading level0 row24\" rowspan=\"12\">75</th>\n",
       "      <th id=\"T_34052_level1_row24\" class=\"row_heading level1 row24\" rowspan=\"3\">1.000000</th>\n",
       "      <th id=\"T_34052_level2_row24\" class=\"row_heading level2 row24\" >7</th>\n",
       "      <td id=\"T_34052_row24_col0\" class=\"data row24 col0\" >4</td>\n",
       "      <td id=\"T_34052_row24_col1\" class=\"data row24 col1\" >-4.72%</td>\n",
       "      <td id=\"T_34052_row24_col2\" class=\"data row24 col2\" >-4.00%</td>\n",
       "      <td id=\"T_34052_row24_col3\" class=\"data row24 col3\" >-0.210000</td>\n",
       "      <td id=\"T_34052_row24_col4\" class=\"data row24 col4\" >-0.92%</td>\n",
       "      <td id=\"T_34052_row24_col5\" class=\"data row24 col5\" >-1.52%</td>\n",
       "    </tr>\n",
       "    <tr>\n",
       "      <th id=\"T_34052_level2_row25\" class=\"row_heading level2 row25\" >14</th>\n",
       "      <td id=\"T_34052_row25_col0\" class=\"data row25 col0\" >4</td>\n",
       "      <td id=\"T_34052_row25_col1\" class=\"data row25 col1\" >-8.92%</td>\n",
       "      <td id=\"T_34052_row25_col2\" class=\"data row25 col2\" >-6.00%</td>\n",
       "      <td id=\"T_34052_row25_col3\" class=\"data row25 col3\" >-0.360000</td>\n",
       "      <td id=\"T_34052_row25_col4\" class=\"data row25 col4\" >-1.77%</td>\n",
       "      <td id=\"T_34052_row25_col5\" class=\"data row25 col5\" >-2.51%</td>\n",
       "    </tr>\n",
       "    <tr>\n",
       "      <th id=\"T_34052_level2_row26\" class=\"row_heading level2 row26\" >20</th>\n",
       "      <td id=\"T_34052_row26_col0\" class=\"data row26 col0\" >4</td>\n",
       "      <td id=\"T_34052_row26_col1\" class=\"data row26 col1\" >-12.27%</td>\n",
       "      <td id=\"T_34052_row26_col2\" class=\"data row26 col2\" >-7.00%</td>\n",
       "      <td id=\"T_34052_row26_col3\" class=\"data row26 col3\" >-0.480000</td>\n",
       "      <td id=\"T_34052_row26_col4\" class=\"data row26 col4\" >-2.46%</td>\n",
       "      <td id=\"T_34052_row26_col5\" class=\"data row26 col5\" >-2.51%</td>\n",
       "    </tr>\n",
       "    <tr>\n",
       "      <th id=\"T_34052_level1_row27\" class=\"row_heading level1 row27\" rowspan=\"3\">1.500000</th>\n",
       "      <th id=\"T_34052_level2_row27\" class=\"row_heading level2 row27\" >7</th>\n",
       "      <td id=\"T_34052_row27_col0\" class=\"data row27 col0\" >4</td>\n",
       "      <td id=\"T_34052_row27_col1\" class=\"data row27 col1\" >-4.72%</td>\n",
       "      <td id=\"T_34052_row27_col2\" class=\"data row27 col2\" >-4.00%</td>\n",
       "      <td id=\"T_34052_row27_col3\" class=\"data row27 col3\" >-0.210000</td>\n",
       "      <td id=\"T_34052_row27_col4\" class=\"data row27 col4\" >-0.92%</td>\n",
       "      <td id=\"T_34052_row27_col5\" class=\"data row27 col5\" >-1.52%</td>\n",
       "    </tr>\n",
       "    <tr>\n",
       "      <th id=\"T_34052_level2_row28\" class=\"row_heading level2 row28\" >14</th>\n",
       "      <td id=\"T_34052_row28_col0\" class=\"data row28 col0\" >4</td>\n",
       "      <td id=\"T_34052_row28_col1\" class=\"data row28 col1\" >-8.92%</td>\n",
       "      <td id=\"T_34052_row28_col2\" class=\"data row28 col2\" >-6.00%</td>\n",
       "      <td id=\"T_34052_row28_col3\" class=\"data row28 col3\" >-0.360000</td>\n",
       "      <td id=\"T_34052_row28_col4\" class=\"data row28 col4\" >-1.77%</td>\n",
       "      <td id=\"T_34052_row28_col5\" class=\"data row28 col5\" >-2.51%</td>\n",
       "    </tr>\n",
       "    <tr>\n",
       "      <th id=\"T_34052_level2_row29\" class=\"row_heading level2 row29\" >20</th>\n",
       "      <td id=\"T_34052_row29_col0\" class=\"data row29 col0\" >4</td>\n",
       "      <td id=\"T_34052_row29_col1\" class=\"data row29 col1\" >-12.27%</td>\n",
       "      <td id=\"T_34052_row29_col2\" class=\"data row29 col2\" >-7.00%</td>\n",
       "      <td id=\"T_34052_row29_col3\" class=\"data row29 col3\" >-0.480000</td>\n",
       "      <td id=\"T_34052_row29_col4\" class=\"data row29 col4\" >-2.46%</td>\n",
       "      <td id=\"T_34052_row29_col5\" class=\"data row29 col5\" >-2.51%</td>\n",
       "    </tr>\n",
       "    <tr>\n",
       "      <th id=\"T_34052_level1_row30\" class=\"row_heading level1 row30\" rowspan=\"3\">1.700000</th>\n",
       "      <th id=\"T_34052_level2_row30\" class=\"row_heading level2 row30\" >7</th>\n",
       "      <td id=\"T_34052_row30_col0\" class=\"data row30 col0\" >3</td>\n",
       "      <td id=\"T_34052_row30_col1\" class=\"data row30 col1\" >-1.18%</td>\n",
       "      <td id=\"T_34052_row30_col2\" class=\"data row30 col2\" >-3.00%</td>\n",
       "      <td id=\"T_34052_row30_col3\" class=\"data row30 col3\" >-0.050000</td>\n",
       "      <td id=\"T_34052_row30_col4\" class=\"data row30 col4\" >-0.30%</td>\n",
       "      <td id=\"T_34052_row30_col5\" class=\"data row30 col5\" >-0.57%</td>\n",
       "    </tr>\n",
       "    <tr>\n",
       "      <th id=\"T_34052_level2_row31\" class=\"row_heading level2 row31\" >14</th>\n",
       "      <td id=\"T_34052_row31_col0\" class=\"data row31 col0\" >4</td>\n",
       "      <td id=\"T_34052_row31_col1\" class=\"data row31 col1\" >-8.92%</td>\n",
       "      <td id=\"T_34052_row31_col2\" class=\"data row31 col2\" >-6.00%</td>\n",
       "      <td id=\"T_34052_row31_col3\" class=\"data row31 col3\" >-0.360000</td>\n",
       "      <td id=\"T_34052_row31_col4\" class=\"data row31 col4\" >-1.77%</td>\n",
       "      <td id=\"T_34052_row31_col5\" class=\"data row31 col5\" >-2.51%</td>\n",
       "    </tr>\n",
       "    <tr>\n",
       "      <th id=\"T_34052_level2_row32\" class=\"row_heading level2 row32\" >20</th>\n",
       "      <td id=\"T_34052_row32_col0\" class=\"data row32 col0\" >4</td>\n",
       "      <td id=\"T_34052_row32_col1\" class=\"data row32 col1\" >-12.27%</td>\n",
       "      <td id=\"T_34052_row32_col2\" class=\"data row32 col2\" >-7.00%</td>\n",
       "      <td id=\"T_34052_row32_col3\" class=\"data row32 col3\" >-0.480000</td>\n",
       "      <td id=\"T_34052_row32_col4\" class=\"data row32 col4\" >-2.46%</td>\n",
       "      <td id=\"T_34052_row32_col5\" class=\"data row32 col5\" >-2.51%</td>\n",
       "    </tr>\n",
       "    <tr>\n",
       "      <th id=\"T_34052_level1_row33\" class=\"row_heading level1 row33\" rowspan=\"3\">2.000000</th>\n",
       "      <th id=\"T_34052_level2_row33\" class=\"row_heading level2 row33\" >7</th>\n",
       "      <td id=\"T_34052_row33_col0\" class=\"data row33 col0\" >3</td>\n",
       "      <td id=\"T_34052_row33_col1\" class=\"data row33 col1\" >-1.18%</td>\n",
       "      <td id=\"T_34052_row33_col2\" class=\"data row33 col2\" >-3.00%</td>\n",
       "      <td id=\"T_34052_row33_col3\" class=\"data row33 col3\" >-0.050000</td>\n",
       "      <td id=\"T_34052_row33_col4\" class=\"data row33 col4\" >-0.30%</td>\n",
       "      <td id=\"T_34052_row33_col5\" class=\"data row33 col5\" >-0.57%</td>\n",
       "    </tr>\n",
       "    <tr>\n",
       "      <th id=\"T_34052_level2_row34\" class=\"row_heading level2 row34\" >14</th>\n",
       "      <td id=\"T_34052_row34_col0\" class=\"data row34 col0\" >2</td>\n",
       "      <td id=\"T_34052_row34_col1\" class=\"data row34 col1\" >-2.34%</td>\n",
       "      <td id=\"T_34052_row34_col2\" class=\"data row34 col2\" >-4.00%</td>\n",
       "      <td id=\"T_34052_row34_col3\" class=\"data row34 col3\" >-0.090000</td>\n",
       "      <td id=\"T_34052_row34_col4\" class=\"data row34 col4\" >-0.91%</td>\n",
       "      <td id=\"T_34052_row34_col5\" class=\"data row34 col5\" >-0.91%</td>\n",
       "    </tr>\n",
       "    <tr>\n",
       "      <th id=\"T_34052_level2_row35\" class=\"row_heading level2 row35\" >20</th>\n",
       "      <td id=\"T_34052_row35_col0\" class=\"data row35 col0\" >3</td>\n",
       "      <td id=\"T_34052_row35_col1\" class=\"data row35 col1\" >-8.84%</td>\n",
       "      <td id=\"T_34052_row35_col2\" class=\"data row35 col2\" >-6.00%</td>\n",
       "      <td id=\"T_34052_row35_col3\" class=\"data row35 col3\" >-0.350000</td>\n",
       "      <td id=\"T_34052_row35_col4\" class=\"data row35 col4\" >-2.35%</td>\n",
       "      <td id=\"T_34052_row35_col5\" class=\"data row35 col5\" >-2.47%</td>\n",
       "    </tr>\n",
       "    <tr>\n",
       "      <th id=\"T_34052_level0_row36\" class=\"row_heading level0 row36\" rowspan=\"12\">85</th>\n",
       "      <th id=\"T_34052_level1_row36\" class=\"row_heading level1 row36\" rowspan=\"3\">1.000000</th>\n",
       "      <th id=\"T_34052_level2_row36\" class=\"row_heading level2 row36\" >7</th>\n",
       "      <td id=\"T_34052_row36_col0\" class=\"data row36 col0\" >0</td>\n",
       "      <td id=\"T_34052_row36_col1\" class=\"data row36 col1\" >nan%</td>\n",
       "      <td id=\"T_34052_row36_col2\" class=\"data row36 col2\" >nan%</td>\n",
       "      <td id=\"T_34052_row36_col3\" class=\"data row36 col3\" >nan</td>\n",
       "      <td id=\"T_34052_row36_col4\" class=\"data row36 col4\" >nan%</td>\n",
       "      <td id=\"T_34052_row36_col5\" class=\"data row36 col5\" >nan%</td>\n",
       "    </tr>\n",
       "    <tr>\n",
       "      <th id=\"T_34052_level2_row37\" class=\"row_heading level2 row37\" >14</th>\n",
       "      <td id=\"T_34052_row37_col0\" class=\"data row37 col0\" >0</td>\n",
       "      <td id=\"T_34052_row37_col1\" class=\"data row37 col1\" >nan%</td>\n",
       "      <td id=\"T_34052_row37_col2\" class=\"data row37 col2\" >nan%</td>\n",
       "      <td id=\"T_34052_row37_col3\" class=\"data row37 col3\" >nan</td>\n",
       "      <td id=\"T_34052_row37_col4\" class=\"data row37 col4\" >nan%</td>\n",
       "      <td id=\"T_34052_row37_col5\" class=\"data row37 col5\" >nan%</td>\n",
       "    </tr>\n",
       "    <tr>\n",
       "      <th id=\"T_34052_level2_row38\" class=\"row_heading level2 row38\" >20</th>\n",
       "      <td id=\"T_34052_row38_col0\" class=\"data row38 col0\" >0</td>\n",
       "      <td id=\"T_34052_row38_col1\" class=\"data row38 col1\" >nan%</td>\n",
       "      <td id=\"T_34052_row38_col2\" class=\"data row38 col2\" >nan%</td>\n",
       "      <td id=\"T_34052_row38_col3\" class=\"data row38 col3\" >nan</td>\n",
       "      <td id=\"T_34052_row38_col4\" class=\"data row38 col4\" >nan%</td>\n",
       "      <td id=\"T_34052_row38_col5\" class=\"data row38 col5\" >nan%</td>\n",
       "    </tr>\n",
       "    <tr>\n",
       "      <th id=\"T_34052_level1_row39\" class=\"row_heading level1 row39\" rowspan=\"3\">1.500000</th>\n",
       "      <th id=\"T_34052_level2_row39\" class=\"row_heading level2 row39\" >7</th>\n",
       "      <td id=\"T_34052_row39_col0\" class=\"data row39 col0\" >0</td>\n",
       "      <td id=\"T_34052_row39_col1\" class=\"data row39 col1\" >nan%</td>\n",
       "      <td id=\"T_34052_row39_col2\" class=\"data row39 col2\" >nan%</td>\n",
       "      <td id=\"T_34052_row39_col3\" class=\"data row39 col3\" >nan</td>\n",
       "      <td id=\"T_34052_row39_col4\" class=\"data row39 col4\" >nan%</td>\n",
       "      <td id=\"T_34052_row39_col5\" class=\"data row39 col5\" >nan%</td>\n",
       "    </tr>\n",
       "    <tr>\n",
       "      <th id=\"T_34052_level2_row40\" class=\"row_heading level2 row40\" >14</th>\n",
       "      <td id=\"T_34052_row40_col0\" class=\"data row40 col0\" >0</td>\n",
       "      <td id=\"T_34052_row40_col1\" class=\"data row40 col1\" >nan%</td>\n",
       "      <td id=\"T_34052_row40_col2\" class=\"data row40 col2\" >nan%</td>\n",
       "      <td id=\"T_34052_row40_col3\" class=\"data row40 col3\" >nan</td>\n",
       "      <td id=\"T_34052_row40_col4\" class=\"data row40 col4\" >nan%</td>\n",
       "      <td id=\"T_34052_row40_col5\" class=\"data row40 col5\" >nan%</td>\n",
       "    </tr>\n",
       "    <tr>\n",
       "      <th id=\"T_34052_level2_row41\" class=\"row_heading level2 row41\" >20</th>\n",
       "      <td id=\"T_34052_row41_col0\" class=\"data row41 col0\" >0</td>\n",
       "      <td id=\"T_34052_row41_col1\" class=\"data row41 col1\" >nan%</td>\n",
       "      <td id=\"T_34052_row41_col2\" class=\"data row41 col2\" >nan%</td>\n",
       "      <td id=\"T_34052_row41_col3\" class=\"data row41 col3\" >nan</td>\n",
       "      <td id=\"T_34052_row41_col4\" class=\"data row41 col4\" >nan%</td>\n",
       "      <td id=\"T_34052_row41_col5\" class=\"data row41 col5\" >nan%</td>\n",
       "    </tr>\n",
       "    <tr>\n",
       "      <th id=\"T_34052_level1_row42\" class=\"row_heading level1 row42\" rowspan=\"3\">1.700000</th>\n",
       "      <th id=\"T_34052_level2_row42\" class=\"row_heading level2 row42\" >7</th>\n",
       "      <td id=\"T_34052_row42_col0\" class=\"data row42 col0\" >0</td>\n",
       "      <td id=\"T_34052_row42_col1\" class=\"data row42 col1\" >nan%</td>\n",
       "      <td id=\"T_34052_row42_col2\" class=\"data row42 col2\" >nan%</td>\n",
       "      <td id=\"T_34052_row42_col3\" class=\"data row42 col3\" >nan</td>\n",
       "      <td id=\"T_34052_row42_col4\" class=\"data row42 col4\" >nan%</td>\n",
       "      <td id=\"T_34052_row42_col5\" class=\"data row42 col5\" >nan%</td>\n",
       "    </tr>\n",
       "    <tr>\n",
       "      <th id=\"T_34052_level2_row43\" class=\"row_heading level2 row43\" >14</th>\n",
       "      <td id=\"T_34052_row43_col0\" class=\"data row43 col0\" >0</td>\n",
       "      <td id=\"T_34052_row43_col1\" class=\"data row43 col1\" >nan%</td>\n",
       "      <td id=\"T_34052_row43_col2\" class=\"data row43 col2\" >nan%</td>\n",
       "      <td id=\"T_34052_row43_col3\" class=\"data row43 col3\" >nan</td>\n",
       "      <td id=\"T_34052_row43_col4\" class=\"data row43 col4\" >nan%</td>\n",
       "      <td id=\"T_34052_row43_col5\" class=\"data row43 col5\" >nan%</td>\n",
       "    </tr>\n",
       "    <tr>\n",
       "      <th id=\"T_34052_level2_row44\" class=\"row_heading level2 row44\" >20</th>\n",
       "      <td id=\"T_34052_row44_col0\" class=\"data row44 col0\" >0</td>\n",
       "      <td id=\"T_34052_row44_col1\" class=\"data row44 col1\" >nan%</td>\n",
       "      <td id=\"T_34052_row44_col2\" class=\"data row44 col2\" >nan%</td>\n",
       "      <td id=\"T_34052_row44_col3\" class=\"data row44 col3\" >nan</td>\n",
       "      <td id=\"T_34052_row44_col4\" class=\"data row44 col4\" >nan%</td>\n",
       "      <td id=\"T_34052_row44_col5\" class=\"data row44 col5\" >nan%</td>\n",
       "    </tr>\n",
       "    <tr>\n",
       "      <th id=\"T_34052_level1_row45\" class=\"row_heading level1 row45\" rowspan=\"3\">2.000000</th>\n",
       "      <th id=\"T_34052_level2_row45\" class=\"row_heading level2 row45\" >7</th>\n",
       "      <td id=\"T_34052_row45_col0\" class=\"data row45 col0\" >0</td>\n",
       "      <td id=\"T_34052_row45_col1\" class=\"data row45 col1\" >nan%</td>\n",
       "      <td id=\"T_34052_row45_col2\" class=\"data row45 col2\" >nan%</td>\n",
       "      <td id=\"T_34052_row45_col3\" class=\"data row45 col3\" >nan</td>\n",
       "      <td id=\"T_34052_row45_col4\" class=\"data row45 col4\" >nan%</td>\n",
       "      <td id=\"T_34052_row45_col5\" class=\"data row45 col5\" >nan%</td>\n",
       "    </tr>\n",
       "    <tr>\n",
       "      <th id=\"T_34052_level2_row46\" class=\"row_heading level2 row46\" >14</th>\n",
       "      <td id=\"T_34052_row46_col0\" class=\"data row46 col0\" >0</td>\n",
       "      <td id=\"T_34052_row46_col1\" class=\"data row46 col1\" >nan%</td>\n",
       "      <td id=\"T_34052_row46_col2\" class=\"data row46 col2\" >nan%</td>\n",
       "      <td id=\"T_34052_row46_col3\" class=\"data row46 col3\" >nan</td>\n",
       "      <td id=\"T_34052_row46_col4\" class=\"data row46 col4\" >nan%</td>\n",
       "      <td id=\"T_34052_row46_col5\" class=\"data row46 col5\" >nan%</td>\n",
       "    </tr>\n",
       "    <tr>\n",
       "      <th id=\"T_34052_level2_row47\" class=\"row_heading level2 row47\" >20</th>\n",
       "      <td id=\"T_34052_row47_col0\" class=\"data row47 col0\" >0</td>\n",
       "      <td id=\"T_34052_row47_col1\" class=\"data row47 col1\" >nan%</td>\n",
       "      <td id=\"T_34052_row47_col2\" class=\"data row47 col2\" >nan%</td>\n",
       "      <td id=\"T_34052_row47_col3\" class=\"data row47 col3\" >nan</td>\n",
       "      <td id=\"T_34052_row47_col4\" class=\"data row47 col4\" >nan%</td>\n",
       "      <td id=\"T_34052_row47_col5\" class=\"data row47 col5\" >nan%</td>\n",
       "    </tr>\n",
       "  </tbody>\n",
       "</table>\n"
      ],
      "text/plain": [
       "<pandas.io.formats.style.Styler at 0x2a3ec6ad0>"
      ]
     },
     "metadata": {},
     "output_type": "display_data"
    }
   ],
   "source": [
    "from tradeexecutor.analysis.grid_search import analyse_grid_search_result\n",
    "from tradeexecutor.analysis.grid_search import visualise_table\n",
    "table = analyse_grid_search_result(grid_search_results)\n",
    "\n",
    "visualise_table(table)"
   ]
  },
  {
   "attachments": {},
   "cell_type": "markdown",
   "metadata": {},
   "source": [
    "## Two dimensional heatmaps\n",
    "\n",
    "- Heatmap allows see how one strategy performance metrics varies over the search space\n",
    "- The example has three parameter search space\n",
    "- We compare two of these parameters and lock up one parameter to a fixed value"
   ]
  },
  {
   "cell_type": "code",
   "execution_count": 10,
   "metadata": {},
   "outputs": [
    {
     "data": {
      "application/vnd.plotly.v1+json": {
       "config": {
        "plotlyServerURL": "https://plot.ly"
       },
       "data": [
        {
         "coloraxis": "coloraxis",
         "hovertemplate": "moving_average_length: %{x}<br>stddev: %{y}<br>Annualised profit: %{z}<extra></extra>",
         "name": "0",
         "text": [
          [
           "-20.30%",
           "6.44%",
           "5.10%"
          ],
          [
           "-17.51%",
           "15.16%",
           "7.62%"
          ],
          [
           "-22.98%",
           "22.51%",
           "13.30%"
          ],
          [
           "-20.63%",
           "7.35%",
           "14.29%"
          ]
         ],
         "texttemplate": "%{text}",
         "type": "heatmap",
         "x": [
          7,
          14,
          20
         ],
         "xaxis": "x",
         "y": [
          1,
          1.5,
          1.7,
          2
         ],
         "yaxis": "y",
         "z": [
          [
           -0.2030373410862881,
           0.06437118789205841,
           0.05096918897414038
          ],
          [
           -0.17507718470852152,
           0.15161327342041261,
           0.07618152575885669
          ],
          [
           -0.22978656137953193,
           0.2251282543875089,
           0.13297586277501894
          ],
          [
           -0.20626641460379513,
           0.07352100314474168,
           0.14288254510200143
          ]
         ]
        }
       ],
       "layout": {
        "coloraxis": {
         "colorbar": {
          "title": {
           "text": "Annualised profit"
          }
         },
         "colorscale": [
          [
           0,
           "#0d0887"
          ],
          [
           0.1111111111111111,
           "#46039f"
          ],
          [
           0.2222222222222222,
           "#7201a8"
          ],
          [
           0.3333333333333333,
           "#9c179e"
          ],
          [
           0.4444444444444444,
           "#bd3786"
          ],
          [
           0.5555555555555556,
           "#d8576b"
          ],
          [
           0.6666666666666666,
           "#ed7953"
          ],
          [
           0.7777777777777778,
           "#fb9f3a"
          ],
          [
           0.8888888888888888,
           "#fdca26"
          ],
          [
           1,
           "#f0f921"
          ]
         ]
        },
        "height": 1800,
        "template": {
         "data": {
          "bar": [
           {
            "error_x": {
             "color": "#2a3f5f"
            },
            "error_y": {
             "color": "#2a3f5f"
            },
            "marker": {
             "line": {
              "color": "#E5ECF6",
              "width": 0.5
             },
             "pattern": {
              "fillmode": "overlay",
              "size": 10,
              "solidity": 0.2
             }
            },
            "type": "bar"
           }
          ],
          "barpolar": [
           {
            "marker": {
             "line": {
              "color": "#E5ECF6",
              "width": 0.5
             },
             "pattern": {
              "fillmode": "overlay",
              "size": 10,
              "solidity": 0.2
             }
            },
            "type": "barpolar"
           }
          ],
          "carpet": [
           {
            "aaxis": {
             "endlinecolor": "#2a3f5f",
             "gridcolor": "white",
             "linecolor": "white",
             "minorgridcolor": "white",
             "startlinecolor": "#2a3f5f"
            },
            "baxis": {
             "endlinecolor": "#2a3f5f",
             "gridcolor": "white",
             "linecolor": "white",
             "minorgridcolor": "white",
             "startlinecolor": "#2a3f5f"
            },
            "type": "carpet"
           }
          ],
          "choropleth": [
           {
            "colorbar": {
             "outlinewidth": 0,
             "ticks": ""
            },
            "type": "choropleth"
           }
          ],
          "contour": [
           {
            "colorbar": {
             "outlinewidth": 0,
             "ticks": ""
            },
            "colorscale": [
             [
              0,
              "#0d0887"
             ],
             [
              0.1111111111111111,
              "#46039f"
             ],
             [
              0.2222222222222222,
              "#7201a8"
             ],
             [
              0.3333333333333333,
              "#9c179e"
             ],
             [
              0.4444444444444444,
              "#bd3786"
             ],
             [
              0.5555555555555556,
              "#d8576b"
             ],
             [
              0.6666666666666666,
              "#ed7953"
             ],
             [
              0.7777777777777778,
              "#fb9f3a"
             ],
             [
              0.8888888888888888,
              "#fdca26"
             ],
             [
              1,
              "#f0f921"
             ]
            ],
            "type": "contour"
           }
          ],
          "contourcarpet": [
           {
            "colorbar": {
             "outlinewidth": 0,
             "ticks": ""
            },
            "type": "contourcarpet"
           }
          ],
          "heatmap": [
           {
            "colorbar": {
             "outlinewidth": 0,
             "ticks": ""
            },
            "colorscale": [
             [
              0,
              "#0d0887"
             ],
             [
              0.1111111111111111,
              "#46039f"
             ],
             [
              0.2222222222222222,
              "#7201a8"
             ],
             [
              0.3333333333333333,
              "#9c179e"
             ],
             [
              0.4444444444444444,
              "#bd3786"
             ],
             [
              0.5555555555555556,
              "#d8576b"
             ],
             [
              0.6666666666666666,
              "#ed7953"
             ],
             [
              0.7777777777777778,
              "#fb9f3a"
             ],
             [
              0.8888888888888888,
              "#fdca26"
             ],
             [
              1,
              "#f0f921"
             ]
            ],
            "type": "heatmap"
           }
          ],
          "heatmapgl": [
           {
            "colorbar": {
             "outlinewidth": 0,
             "ticks": ""
            },
            "colorscale": [
             [
              0,
              "#0d0887"
             ],
             [
              0.1111111111111111,
              "#46039f"
             ],
             [
              0.2222222222222222,
              "#7201a8"
             ],
             [
              0.3333333333333333,
              "#9c179e"
             ],
             [
              0.4444444444444444,
              "#bd3786"
             ],
             [
              0.5555555555555556,
              "#d8576b"
             ],
             [
              0.6666666666666666,
              "#ed7953"
             ],
             [
              0.7777777777777778,
              "#fb9f3a"
             ],
             [
              0.8888888888888888,
              "#fdca26"
             ],
             [
              1,
              "#f0f921"
             ]
            ],
            "type": "heatmapgl"
           }
          ],
          "histogram": [
           {
            "marker": {
             "pattern": {
              "fillmode": "overlay",
              "size": 10,
              "solidity": 0.2
             }
            },
            "type": "histogram"
           }
          ],
          "histogram2d": [
           {
            "colorbar": {
             "outlinewidth": 0,
             "ticks": ""
            },
            "colorscale": [
             [
              0,
              "#0d0887"
             ],
             [
              0.1111111111111111,
              "#46039f"
             ],
             [
              0.2222222222222222,
              "#7201a8"
             ],
             [
              0.3333333333333333,
              "#9c179e"
             ],
             [
              0.4444444444444444,
              "#bd3786"
             ],
             [
              0.5555555555555556,
              "#d8576b"
             ],
             [
              0.6666666666666666,
              "#ed7953"
             ],
             [
              0.7777777777777778,
              "#fb9f3a"
             ],
             [
              0.8888888888888888,
              "#fdca26"
             ],
             [
              1,
              "#f0f921"
             ]
            ],
            "type": "histogram2d"
           }
          ],
          "histogram2dcontour": [
           {
            "colorbar": {
             "outlinewidth": 0,
             "ticks": ""
            },
            "colorscale": [
             [
              0,
              "#0d0887"
             ],
             [
              0.1111111111111111,
              "#46039f"
             ],
             [
              0.2222222222222222,
              "#7201a8"
             ],
             [
              0.3333333333333333,
              "#9c179e"
             ],
             [
              0.4444444444444444,
              "#bd3786"
             ],
             [
              0.5555555555555556,
              "#d8576b"
             ],
             [
              0.6666666666666666,
              "#ed7953"
             ],
             [
              0.7777777777777778,
              "#fb9f3a"
             ],
             [
              0.8888888888888888,
              "#fdca26"
             ],
             [
              1,
              "#f0f921"
             ]
            ],
            "type": "histogram2dcontour"
           }
          ],
          "mesh3d": [
           {
            "colorbar": {
             "outlinewidth": 0,
             "ticks": ""
            },
            "type": "mesh3d"
           }
          ],
          "parcoords": [
           {
            "line": {
             "colorbar": {
              "outlinewidth": 0,
              "ticks": ""
             }
            },
            "type": "parcoords"
           }
          ],
          "pie": [
           {
            "automargin": true,
            "type": "pie"
           }
          ],
          "scatter": [
           {
            "fillpattern": {
             "fillmode": "overlay",
             "size": 10,
             "solidity": 0.2
            },
            "type": "scatter"
           }
          ],
          "scatter3d": [
           {
            "line": {
             "colorbar": {
              "outlinewidth": 0,
              "ticks": ""
             }
            },
            "marker": {
             "colorbar": {
              "outlinewidth": 0,
              "ticks": ""
             }
            },
            "type": "scatter3d"
           }
          ],
          "scattercarpet": [
           {
            "marker": {
             "colorbar": {
              "outlinewidth": 0,
              "ticks": ""
             }
            },
            "type": "scattercarpet"
           }
          ],
          "scattergeo": [
           {
            "marker": {
             "colorbar": {
              "outlinewidth": 0,
              "ticks": ""
             }
            },
            "type": "scattergeo"
           }
          ],
          "scattergl": [
           {
            "marker": {
             "colorbar": {
              "outlinewidth": 0,
              "ticks": ""
             }
            },
            "type": "scattergl"
           }
          ],
          "scattermapbox": [
           {
            "marker": {
             "colorbar": {
              "outlinewidth": 0,
              "ticks": ""
             }
            },
            "type": "scattermapbox"
           }
          ],
          "scatterpolar": [
           {
            "marker": {
             "colorbar": {
              "outlinewidth": 0,
              "ticks": ""
             }
            },
            "type": "scatterpolar"
           }
          ],
          "scatterpolargl": [
           {
            "marker": {
             "colorbar": {
              "outlinewidth": 0,
              "ticks": ""
             }
            },
            "type": "scatterpolargl"
           }
          ],
          "scatterternary": [
           {
            "marker": {
             "colorbar": {
              "outlinewidth": 0,
              "ticks": ""
             }
            },
            "type": "scatterternary"
           }
          ],
          "surface": [
           {
            "colorbar": {
             "outlinewidth": 0,
             "ticks": ""
            },
            "colorscale": [
             [
              0,
              "#0d0887"
             ],
             [
              0.1111111111111111,
              "#46039f"
             ],
             [
              0.2222222222222222,
              "#7201a8"
             ],
             [
              0.3333333333333333,
              "#9c179e"
             ],
             [
              0.4444444444444444,
              "#bd3786"
             ],
             [
              0.5555555555555556,
              "#d8576b"
             ],
             [
              0.6666666666666666,
              "#ed7953"
             ],
             [
              0.7777777777777778,
              "#fb9f3a"
             ],
             [
              0.8888888888888888,
              "#fdca26"
             ],
             [
              1,
              "#f0f921"
             ]
            ],
            "type": "surface"
           }
          ],
          "table": [
           {
            "cells": {
             "fill": {
              "color": "#EBF0F8"
             },
             "line": {
              "color": "white"
             }
            },
            "header": {
             "fill": {
              "color": "#C8D4E3"
             },
             "line": {
              "color": "white"
             }
            },
            "type": "table"
           }
          ]
         },
         "layout": {
          "annotationdefaults": {
           "arrowcolor": "#2a3f5f",
           "arrowhead": 0,
           "arrowwidth": 1
          },
          "autotypenumbers": "strict",
          "coloraxis": {
           "colorbar": {
            "outlinewidth": 0,
            "ticks": ""
           }
          },
          "colorscale": {
           "diverging": [
            [
             0,
             "#8e0152"
            ],
            [
             0.1,
             "#c51b7d"
            ],
            [
             0.2,
             "#de77ae"
            ],
            [
             0.3,
             "#f1b6da"
            ],
            [
             0.4,
             "#fde0ef"
            ],
            [
             0.5,
             "#f7f7f7"
            ],
            [
             0.6,
             "#e6f5d0"
            ],
            [
             0.7,
             "#b8e186"
            ],
            [
             0.8,
             "#7fbc41"
            ],
            [
             0.9,
             "#4d9221"
            ],
            [
             1,
             "#276419"
            ]
           ],
           "sequential": [
            [
             0,
             "#0d0887"
            ],
            [
             0.1111111111111111,
             "#46039f"
            ],
            [
             0.2222222222222222,
             "#7201a8"
            ],
            [
             0.3333333333333333,
             "#9c179e"
            ],
            [
             0.4444444444444444,
             "#bd3786"
            ],
            [
             0.5555555555555556,
             "#d8576b"
            ],
            [
             0.6666666666666666,
             "#ed7953"
            ],
            [
             0.7777777777777778,
             "#fb9f3a"
            ],
            [
             0.8888888888888888,
             "#fdca26"
            ],
            [
             1,
             "#f0f921"
            ]
           ],
           "sequentialminus": [
            [
             0,
             "#0d0887"
            ],
            [
             0.1111111111111111,
             "#46039f"
            ],
            [
             0.2222222222222222,
             "#7201a8"
            ],
            [
             0.3333333333333333,
             "#9c179e"
            ],
            [
             0.4444444444444444,
             "#bd3786"
            ],
            [
             0.5555555555555556,
             "#d8576b"
            ],
            [
             0.6666666666666666,
             "#ed7953"
            ],
            [
             0.7777777777777778,
             "#fb9f3a"
            ],
            [
             0.8888888888888888,
             "#fdca26"
            ],
            [
             1,
             "#f0f921"
            ]
           ]
          },
          "colorway": [
           "#636efa",
           "#EF553B",
           "#00cc96",
           "#ab63fa",
           "#FFA15A",
           "#19d3f3",
           "#FF6692",
           "#B6E880",
           "#FF97FF",
           "#FECB52"
          ],
          "font": {
           "color": "#2a3f5f"
          },
          "geo": {
           "bgcolor": "white",
           "lakecolor": "white",
           "landcolor": "#E5ECF6",
           "showlakes": true,
           "showland": true,
           "subunitcolor": "white"
          },
          "hoverlabel": {
           "align": "left"
          },
          "hovermode": "closest",
          "mapbox": {
           "style": "light"
          },
          "paper_bgcolor": "white",
          "plot_bgcolor": "#E5ECF6",
          "polar": {
           "angularaxis": {
            "gridcolor": "white",
            "linecolor": "white",
            "ticks": ""
           },
           "bgcolor": "#E5ECF6",
           "radialaxis": {
            "gridcolor": "white",
            "linecolor": "white",
            "ticks": ""
           }
          },
          "scene": {
           "xaxis": {
            "backgroundcolor": "#E5ECF6",
            "gridcolor": "white",
            "gridwidth": 2,
            "linecolor": "white",
            "showbackground": true,
            "ticks": "",
            "zerolinecolor": "white"
           },
           "yaxis": {
            "backgroundcolor": "#E5ECF6",
            "gridcolor": "white",
            "gridwidth": 2,
            "linecolor": "white",
            "showbackground": true,
            "ticks": "",
            "zerolinecolor": "white"
           },
           "zaxis": {
            "backgroundcolor": "#E5ECF6",
            "gridcolor": "white",
            "gridwidth": 2,
            "linecolor": "white",
            "showbackground": true,
            "ticks": "",
            "zerolinecolor": "white"
           }
          },
          "shapedefaults": {
           "line": {
            "color": "#2a3f5f"
           }
          },
          "ternary": {
           "aaxis": {
            "gridcolor": "white",
            "linecolor": "white",
            "ticks": ""
           },
           "baxis": {
            "gridcolor": "white",
            "linecolor": "white",
            "ticks": ""
           },
           "bgcolor": "#E5ECF6",
           "caxis": {
            "gridcolor": "white",
            "linecolor": "white",
            "ticks": ""
           }
          },
          "title": {
           "x": 0.05
          },
          "xaxis": {
           "automargin": true,
           "gridcolor": "white",
           "linecolor": "white",
           "ticks": "",
           "title": {
            "standoff": 15
           },
           "zerolinecolor": "white",
           "zerolinewidth": 2
          },
          "yaxis": {
           "automargin": true,
           "gridcolor": "white",
           "linecolor": "white",
           "ticks": "",
           "title": {
            "standoff": 15
           },
           "zerolinecolor": "white",
           "zerolinewidth": 2
          }
         }
        },
        "title": {
         "text": "Annualised profit"
        },
        "xaxis": {
         "anchor": "y",
         "domain": [
          0,
          1
         ],
         "title": {
          "text": "moving_average_length"
         }
        },
        "yaxis": {
         "anchor": "x",
         "autorange": "reversed",
         "domain": [
          0,
          1
         ],
         "title": {
          "text": "stddev"
         }
        }
       }
      }
     },
     "metadata": {},
     "output_type": "display_data"
    }
   ],
   "source": [
    "from tradeexecutor.analysis.grid_search import visualise_heatmap_2d\n",
    "\n",
    "# Remove one extra axis by focusing only rsi_threshold=65\n",
    "heatmap_data = table.xs(65, level=\"rsi_threshold\")\n",
    "\n",
    "# Draw heatmaps for two different metrics\n",
    "fig = visualise_heatmap_2d(heatmap_data, \"stddev\", \"moving_average_length\", \"Annualised profit\")\n",
    "display(fig)"
   ]
  },
  {
   "cell_type": "code",
   "execution_count": 11,
   "metadata": {},
   "outputs": [
    {
     "data": {
      "application/vnd.plotly.v1+json": {
       "config": {
        "plotlyServerURL": "https://plot.ly"
       },
       "data": [
        {
         "coloraxis": "coloraxis",
         "hovertemplate": "moving_average_length: %{x}<br>stddev: %{y}<br>Max drawdown: %{z}<extra></extra>",
         "name": "0",
         "text": [
          [
           "-16.00%",
           "-12.00%",
           "-8.00%"
          ],
          [
           "-11.00%",
           "-12.00%",
           "-8.00%"
          ],
          [
           "-14.00%",
           "-9.00%",
           "-8.00%"
          ],
          [
           "-13.00%",
           "-9.00%",
           "-9.00%"
          ]
         ],
         "texttemplate": "%{text}",
         "type": "heatmap",
         "x": [
          7,
          14,
          20
         ],
         "xaxis": "x",
         "y": [
          1,
          1.5,
          1.7,
          2
         ],
         "yaxis": "y",
         "z": [
          [
           -0.16,
           -0.12,
           -0.08
          ],
          [
           -0.11,
           -0.12,
           -0.08
          ],
          [
           -0.14,
           -0.09,
           -0.08
          ],
          [
           -0.13,
           -0.09,
           -0.09
          ]
         ]
        }
       ],
       "layout": {
        "coloraxis": {
         "colorbar": {
          "title": {
           "text": "Max drawdown"
          }
         },
         "colorscale": [
          [
           0,
           "#0d0887"
          ],
          [
           0.1111111111111111,
           "#46039f"
          ],
          [
           0.2222222222222222,
           "#7201a8"
          ],
          [
           0.3333333333333333,
           "#9c179e"
          ],
          [
           0.4444444444444444,
           "#bd3786"
          ],
          [
           0.5555555555555556,
           "#d8576b"
          ],
          [
           0.6666666666666666,
           "#ed7953"
          ],
          [
           0.7777777777777778,
           "#fb9f3a"
          ],
          [
           0.8888888888888888,
           "#fdca26"
          ],
          [
           1,
           "#f0f921"
          ]
         ]
        },
        "height": 600,
        "template": {
         "data": {
          "bar": [
           {
            "error_x": {
             "color": "#2a3f5f"
            },
            "error_y": {
             "color": "#2a3f5f"
            },
            "marker": {
             "line": {
              "color": "#E5ECF6",
              "width": 0.5
             },
             "pattern": {
              "fillmode": "overlay",
              "size": 10,
              "solidity": 0.2
             }
            },
            "type": "bar"
           }
          ],
          "barpolar": [
           {
            "marker": {
             "line": {
              "color": "#E5ECF6",
              "width": 0.5
             },
             "pattern": {
              "fillmode": "overlay",
              "size": 10,
              "solidity": 0.2
             }
            },
            "type": "barpolar"
           }
          ],
          "carpet": [
           {
            "aaxis": {
             "endlinecolor": "#2a3f5f",
             "gridcolor": "white",
             "linecolor": "white",
             "minorgridcolor": "white",
             "startlinecolor": "#2a3f5f"
            },
            "baxis": {
             "endlinecolor": "#2a3f5f",
             "gridcolor": "white",
             "linecolor": "white",
             "minorgridcolor": "white",
             "startlinecolor": "#2a3f5f"
            },
            "type": "carpet"
           }
          ],
          "choropleth": [
           {
            "colorbar": {
             "outlinewidth": 0,
             "ticks": ""
            },
            "type": "choropleth"
           }
          ],
          "contour": [
           {
            "colorbar": {
             "outlinewidth": 0,
             "ticks": ""
            },
            "colorscale": [
             [
              0,
              "#0d0887"
             ],
             [
              0.1111111111111111,
              "#46039f"
             ],
             [
              0.2222222222222222,
              "#7201a8"
             ],
             [
              0.3333333333333333,
              "#9c179e"
             ],
             [
              0.4444444444444444,
              "#bd3786"
             ],
             [
              0.5555555555555556,
              "#d8576b"
             ],
             [
              0.6666666666666666,
              "#ed7953"
             ],
             [
              0.7777777777777778,
              "#fb9f3a"
             ],
             [
              0.8888888888888888,
              "#fdca26"
             ],
             [
              1,
              "#f0f921"
             ]
            ],
            "type": "contour"
           }
          ],
          "contourcarpet": [
           {
            "colorbar": {
             "outlinewidth": 0,
             "ticks": ""
            },
            "type": "contourcarpet"
           }
          ],
          "heatmap": [
           {
            "colorbar": {
             "outlinewidth": 0,
             "ticks": ""
            },
            "colorscale": [
             [
              0,
              "#0d0887"
             ],
             [
              0.1111111111111111,
              "#46039f"
             ],
             [
              0.2222222222222222,
              "#7201a8"
             ],
             [
              0.3333333333333333,
              "#9c179e"
             ],
             [
              0.4444444444444444,
              "#bd3786"
             ],
             [
              0.5555555555555556,
              "#d8576b"
             ],
             [
              0.6666666666666666,
              "#ed7953"
             ],
             [
              0.7777777777777778,
              "#fb9f3a"
             ],
             [
              0.8888888888888888,
              "#fdca26"
             ],
             [
              1,
              "#f0f921"
             ]
            ],
            "type": "heatmap"
           }
          ],
          "heatmapgl": [
           {
            "colorbar": {
             "outlinewidth": 0,
             "ticks": ""
            },
            "colorscale": [
             [
              0,
              "#0d0887"
             ],
             [
              0.1111111111111111,
              "#46039f"
             ],
             [
              0.2222222222222222,
              "#7201a8"
             ],
             [
              0.3333333333333333,
              "#9c179e"
             ],
             [
              0.4444444444444444,
              "#bd3786"
             ],
             [
              0.5555555555555556,
              "#d8576b"
             ],
             [
              0.6666666666666666,
              "#ed7953"
             ],
             [
              0.7777777777777778,
              "#fb9f3a"
             ],
             [
              0.8888888888888888,
              "#fdca26"
             ],
             [
              1,
              "#f0f921"
             ]
            ],
            "type": "heatmapgl"
           }
          ],
          "histogram": [
           {
            "marker": {
             "pattern": {
              "fillmode": "overlay",
              "size": 10,
              "solidity": 0.2
             }
            },
            "type": "histogram"
           }
          ],
          "histogram2d": [
           {
            "colorbar": {
             "outlinewidth": 0,
             "ticks": ""
            },
            "colorscale": [
             [
              0,
              "#0d0887"
             ],
             [
              0.1111111111111111,
              "#46039f"
             ],
             [
              0.2222222222222222,
              "#7201a8"
             ],
             [
              0.3333333333333333,
              "#9c179e"
             ],
             [
              0.4444444444444444,
              "#bd3786"
             ],
             [
              0.5555555555555556,
              "#d8576b"
             ],
             [
              0.6666666666666666,
              "#ed7953"
             ],
             [
              0.7777777777777778,
              "#fb9f3a"
             ],
             [
              0.8888888888888888,
              "#fdca26"
             ],
             [
              1,
              "#f0f921"
             ]
            ],
            "type": "histogram2d"
           }
          ],
          "histogram2dcontour": [
           {
            "colorbar": {
             "outlinewidth": 0,
             "ticks": ""
            },
            "colorscale": [
             [
              0,
              "#0d0887"
             ],
             [
              0.1111111111111111,
              "#46039f"
             ],
             [
              0.2222222222222222,
              "#7201a8"
             ],
             [
              0.3333333333333333,
              "#9c179e"
             ],
             [
              0.4444444444444444,
              "#bd3786"
             ],
             [
              0.5555555555555556,
              "#d8576b"
             ],
             [
              0.6666666666666666,
              "#ed7953"
             ],
             [
              0.7777777777777778,
              "#fb9f3a"
             ],
             [
              0.8888888888888888,
              "#fdca26"
             ],
             [
              1,
              "#f0f921"
             ]
            ],
            "type": "histogram2dcontour"
           }
          ],
          "mesh3d": [
           {
            "colorbar": {
             "outlinewidth": 0,
             "ticks": ""
            },
            "type": "mesh3d"
           }
          ],
          "parcoords": [
           {
            "line": {
             "colorbar": {
              "outlinewidth": 0,
              "ticks": ""
             }
            },
            "type": "parcoords"
           }
          ],
          "pie": [
           {
            "automargin": true,
            "type": "pie"
           }
          ],
          "scatter": [
           {
            "fillpattern": {
             "fillmode": "overlay",
             "size": 10,
             "solidity": 0.2
            },
            "type": "scatter"
           }
          ],
          "scatter3d": [
           {
            "line": {
             "colorbar": {
              "outlinewidth": 0,
              "ticks": ""
             }
            },
            "marker": {
             "colorbar": {
              "outlinewidth": 0,
              "ticks": ""
             }
            },
            "type": "scatter3d"
           }
          ],
          "scattercarpet": [
           {
            "marker": {
             "colorbar": {
              "outlinewidth": 0,
              "ticks": ""
             }
            },
            "type": "scattercarpet"
           }
          ],
          "scattergeo": [
           {
            "marker": {
             "colorbar": {
              "outlinewidth": 0,
              "ticks": ""
             }
            },
            "type": "scattergeo"
           }
          ],
          "scattergl": [
           {
            "marker": {
             "colorbar": {
              "outlinewidth": 0,
              "ticks": ""
             }
            },
            "type": "scattergl"
           }
          ],
          "scattermapbox": [
           {
            "marker": {
             "colorbar": {
              "outlinewidth": 0,
              "ticks": ""
             }
            },
            "type": "scattermapbox"
           }
          ],
          "scatterpolar": [
           {
            "marker": {
             "colorbar": {
              "outlinewidth": 0,
              "ticks": ""
             }
            },
            "type": "scatterpolar"
           }
          ],
          "scatterpolargl": [
           {
            "marker": {
             "colorbar": {
              "outlinewidth": 0,
              "ticks": ""
             }
            },
            "type": "scatterpolargl"
           }
          ],
          "scatterternary": [
           {
            "marker": {
             "colorbar": {
              "outlinewidth": 0,
              "ticks": ""
             }
            },
            "type": "scatterternary"
           }
          ],
          "surface": [
           {
            "colorbar": {
             "outlinewidth": 0,
             "ticks": ""
            },
            "colorscale": [
             [
              0,
              "#0d0887"
             ],
             [
              0.1111111111111111,
              "#46039f"
             ],
             [
              0.2222222222222222,
              "#7201a8"
             ],
             [
              0.3333333333333333,
              "#9c179e"
             ],
             [
              0.4444444444444444,
              "#bd3786"
             ],
             [
              0.5555555555555556,
              "#d8576b"
             ],
             [
              0.6666666666666666,
              "#ed7953"
             ],
             [
              0.7777777777777778,
              "#fb9f3a"
             ],
             [
              0.8888888888888888,
              "#fdca26"
             ],
             [
              1,
              "#f0f921"
             ]
            ],
            "type": "surface"
           }
          ],
          "table": [
           {
            "cells": {
             "fill": {
              "color": "#EBF0F8"
             },
             "line": {
              "color": "white"
             }
            },
            "header": {
             "fill": {
              "color": "#C8D4E3"
             },
             "line": {
              "color": "white"
             }
            },
            "type": "table"
           }
          ]
         },
         "layout": {
          "annotationdefaults": {
           "arrowcolor": "#2a3f5f",
           "arrowhead": 0,
           "arrowwidth": 1
          },
          "autotypenumbers": "strict",
          "coloraxis": {
           "colorbar": {
            "outlinewidth": 0,
            "ticks": ""
           }
          },
          "colorscale": {
           "diverging": [
            [
             0,
             "#8e0152"
            ],
            [
             0.1,
             "#c51b7d"
            ],
            [
             0.2,
             "#de77ae"
            ],
            [
             0.3,
             "#f1b6da"
            ],
            [
             0.4,
             "#fde0ef"
            ],
            [
             0.5,
             "#f7f7f7"
            ],
            [
             0.6,
             "#e6f5d0"
            ],
            [
             0.7,
             "#b8e186"
            ],
            [
             0.8,
             "#7fbc41"
            ],
            [
             0.9,
             "#4d9221"
            ],
            [
             1,
             "#276419"
            ]
           ],
           "sequential": [
            [
             0,
             "#0d0887"
            ],
            [
             0.1111111111111111,
             "#46039f"
            ],
            [
             0.2222222222222222,
             "#7201a8"
            ],
            [
             0.3333333333333333,
             "#9c179e"
            ],
            [
             0.4444444444444444,
             "#bd3786"
            ],
            [
             0.5555555555555556,
             "#d8576b"
            ],
            [
             0.6666666666666666,
             "#ed7953"
            ],
            [
             0.7777777777777778,
             "#fb9f3a"
            ],
            [
             0.8888888888888888,
             "#fdca26"
            ],
            [
             1,
             "#f0f921"
            ]
           ],
           "sequentialminus": [
            [
             0,
             "#0d0887"
            ],
            [
             0.1111111111111111,
             "#46039f"
            ],
            [
             0.2222222222222222,
             "#7201a8"
            ],
            [
             0.3333333333333333,
             "#9c179e"
            ],
            [
             0.4444444444444444,
             "#bd3786"
            ],
            [
             0.5555555555555556,
             "#d8576b"
            ],
            [
             0.6666666666666666,
             "#ed7953"
            ],
            [
             0.7777777777777778,
             "#fb9f3a"
            ],
            [
             0.8888888888888888,
             "#fdca26"
            ],
            [
             1,
             "#f0f921"
            ]
           ]
          },
          "colorway": [
           "#636efa",
           "#EF553B",
           "#00cc96",
           "#ab63fa",
           "#FFA15A",
           "#19d3f3",
           "#FF6692",
           "#B6E880",
           "#FF97FF",
           "#FECB52"
          ],
          "font": {
           "color": "#2a3f5f"
          },
          "geo": {
           "bgcolor": "white",
           "lakecolor": "white",
           "landcolor": "#E5ECF6",
           "showlakes": true,
           "showland": true,
           "subunitcolor": "white"
          },
          "hoverlabel": {
           "align": "left"
          },
          "hovermode": "closest",
          "mapbox": {
           "style": "light"
          },
          "paper_bgcolor": "white",
          "plot_bgcolor": "#E5ECF6",
          "polar": {
           "angularaxis": {
            "gridcolor": "white",
            "linecolor": "white",
            "ticks": ""
           },
           "bgcolor": "#E5ECF6",
           "radialaxis": {
            "gridcolor": "white",
            "linecolor": "white",
            "ticks": ""
           }
          },
          "scene": {
           "xaxis": {
            "backgroundcolor": "#E5ECF6",
            "gridcolor": "white",
            "gridwidth": 2,
            "linecolor": "white",
            "showbackground": true,
            "ticks": "",
            "zerolinecolor": "white"
           },
           "yaxis": {
            "backgroundcolor": "#E5ECF6",
            "gridcolor": "white",
            "gridwidth": 2,
            "linecolor": "white",
            "showbackground": true,
            "ticks": "",
            "zerolinecolor": "white"
           },
           "zaxis": {
            "backgroundcolor": "#E5ECF6",
            "gridcolor": "white",
            "gridwidth": 2,
            "linecolor": "white",
            "showbackground": true,
            "ticks": "",
            "zerolinecolor": "white"
           }
          },
          "shapedefaults": {
           "line": {
            "color": "#2a3f5f"
           }
          },
          "ternary": {
           "aaxis": {
            "gridcolor": "white",
            "linecolor": "white",
            "ticks": ""
           },
           "baxis": {
            "gridcolor": "white",
            "linecolor": "white",
            "ticks": ""
           },
           "bgcolor": "#E5ECF6",
           "caxis": {
            "gridcolor": "white",
            "linecolor": "white",
            "ticks": ""
           }
          },
          "title": {
           "x": 0.05
          },
          "xaxis": {
           "automargin": true,
           "gridcolor": "white",
           "linecolor": "white",
           "ticks": "",
           "title": {
            "standoff": 15
           },
           "zerolinecolor": "white",
           "zerolinewidth": 2
          },
          "yaxis": {
           "automargin": true,
           "gridcolor": "white",
           "linecolor": "white",
           "ticks": "",
           "title": {
            "standoff": 15
           },
           "zerolinecolor": "white",
           "zerolinewidth": 2
          }
         }
        },
        "title": {
         "text": "Max drawdown"
        },
        "xaxis": {
         "anchor": "y",
         "domain": [
          0,
          1
         ],
         "title": {
          "text": "moving_average_length"
         }
        },
        "yaxis": {
         "anchor": "x",
         "autorange": "reversed",
         "domain": [
          0,
          1
         ],
         "title": {
          "text": "stddev"
         }
        }
       }
      }
     },
     "metadata": {},
     "output_type": "display_data"
    }
   ],
   "source": [
    "# Draw another heatmap\n",
    "fig = visualise_heatmap_2d(heatmap_data, \"stddev\", \"moving_average_length\", \"Max drawdown\")\n",
    "display(fig)"
   ]
  },
  {
   "cell_type": "markdown",
   "metadata": {},
   "source": [
    "## Finishing notes\n",
    "\n",
    "Print out a line to signal the notebook finished the execution successfully."
   ]
  },
  {
   "cell_type": "code",
   "execution_count": 12,
   "metadata": {
    "collapsed": false,
    "jupyter": {
     "outputs_hidden": false
    }
   },
   "outputs": [
    {
     "name": "stdout",
     "output_type": "stream",
     "text": [
      "All ok\n"
     ]
    }
   ],
   "source": [
    "print(\"All ok\")"
   ]
  }
 ],
 "metadata": {
  "kernelspec": {
   "display_name": "Python 3.10.6 ('trade-executor-zDrfc5oV-py3.10')",
   "language": "python",
   "name": "python3"
  },
  "language_info": {
   "codemirror_mode": {
    "name": "ipython",
    "version": 3
   },
   "file_extension": ".py",
   "mimetype": "text/x-python",
   "name": "python",
   "nbconvert_exporter": "python",
   "pygments_lexer": "ipython3",
   "version": "3.10.10"
  },
  "vscode": {
   "interpreter": {
    "hash": "f45fb66dacef78c495ceec56f258b06b84bd9cb2c0a9a6d3656125fb3c018996"
   }
  }
 },
 "nbformat": 4,
 "nbformat_minor": 4
}
