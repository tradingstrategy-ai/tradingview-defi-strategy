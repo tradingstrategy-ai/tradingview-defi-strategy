{
 "cells": [
  {
   "attachments": {},
   "cell_type": "markdown",
   "metadata": {
    "tags": []
   },
   "source": [
    "# Grid search example\n",
    "\n",
    "This is a grid search example, modified the default Bollinger bands example.\n",
    "\n",
    "- Processes large dataset\n",
    "- Run a grid search for historical AVAX-USD data using Trader Joe price feed \n",
    "- Asssum 20 BPS live trading fee on Trader Joe v2\n",
    "- Runs over a large grid search matrix\n",
    "- Use multiprocessing to greatly scale the speed of grid search\n",
    "    - This comes with added complexity, as we need to move part of the strategy to a Python module\n",
    "\n",
    "For more details, see README.\n",
    "\n",
    "### Github notebook rendering issues\n",
    "\n",
    "**If you are viewing this file on Github**: The current Github online notebook viewer cannot render the interactive Plotly charts used in this notebook.\n",
    "To view the charts, you need to download run the notebook locally."
   ]
  },
  {
   "attachments": {},
   "cell_type": "markdown",
   "metadata": {
    "tags": []
   },
   "source": [
    "## Multiprocessing set up\n",
    "\n",
    "Because functions defined in Jupyter Notebook cells cannot be used in Python multiprocessing, we define our strategy parameters and functions in a Python module.\n",
    "Then we import them here.\n"
   ]
  },
  {
   "cell_type": "code",
   "execution_count": 1,
   "metadata": {
    "collapsed": false,
    "jupyter": {
     "outputs_hidden": false
    }
   },
   "outputs": [],
   "source": [
    "from tradingview_defi_strategy.trader_joe_grid_search import \\\n",
    "    START_AT, END_AT, CANDLE_TIME_BUCKET, TRADING_PAIR, \\\n",
    "    STOP_LOSS_TIME_BUCKET, RSI_THRESHOLD, STDDEV, \\\n",
    "    MOVING_AVERAGE_LENGTH, STRATEGY_NAME, \\\n",
    "    grid_search_worker"
   ]
  },
  {
   "attachments": {},
   "cell_type": "markdown",
   "metadata": {},
   "source": [
    "## Defining the trading universe\n",
    "\n",
    "We create a trading universe with a single blockchain, single exchange and a single trading pair.\n",
    "\n",
    "Trading Strategy framework supports complex strategies, spanning thousands of pairs and lending pools,\n",
    "but we are not interested in this example."
   ]
  },
  {
   "cell_type": "code",
   "execution_count": 2,
   "metadata": {
    "collapsed": false,
    "jupyter": {
     "outputs_hidden": false
    }
   },
   "outputs": [],
   "source": [
    "import datetime\n",
    "from tradingstrategy.client import Client\n",
    "from tradeexecutor.strategy.trading_strategy_universe import load_pair_data_for_single_exchange, TradingStrategyUniverse\n",
    "from tradeexecutor.strategy.execution_context import ExecutionContext\n",
    "from tradeexecutor.strategy.universe_model import UniverseOptions\n",
    "\n",
    "\n",
    "def create_single_pair_trading_universe(\n",
    "        ts: datetime.datetime,\n",
    "        client: Client,\n",
    "        execution_context: ExecutionContext,\n",
    "        universe_options: UniverseOptions,\n",
    ") -> TradingStrategyUniverse:\n",
    "    \n",
    "    # Fetch backtesting datasets from the server \n",
    "    dataset = load_pair_data_for_single_exchange(\n",
    "        client,\n",
    "        time_bucket=CANDLE_TIME_BUCKET,\n",
    "        pair_tickers=[TRADING_PAIR],\n",
    "        execution_context=execution_context,        \n",
    "        universe_options=universe_options,\n",
    "        stop_loss_time_bucket=STOP_LOSS_TIME_BUCKET,\n",
    "    )\n",
    "\n",
    "    # Convert loaded data to a trading pair universe\n",
    "    universe = TradingStrategyUniverse.create_single_pair_universe(\n",
    "        dataset,\n",
    "        pair=TRADING_PAIR,\n",
    "    )\n",
    "\n",
    "    return universe"
   ]
  },
  {
   "cell_type": "markdown",
   "metadata": {},
   "source": [
    "## Set up the market data client\n",
    "\n",
    "The [Trading Strategy market data client](https://tradingstrategy.ai/docs/programming/api/client/index.html)\n",
    "is the Python library responsible for managing the data feeds needed to run the backtest.None\n",
    "\n",
    "We set up the market data client with an API key.\n",
    "\n",
    "[If you do not have an API key yet, you can register one](https://tradingstrategy.ai/trading-view/backtesting)."
   ]
  },
  {
   "cell_type": "code",
   "execution_count": 3,
   "metadata": {
    "collapsed": false,
    "jupyter": {
     "outputs_hidden": false
    }
   },
   "outputs": [
    {
     "name": "stdout",
     "output_type": "stream",
     "text": [
      "Started Trading Strategy in Jupyter notebook environment, configuration is stored in /Users/moo/.tradingstrategy\n"
     ]
    }
   ],
   "source": [
    "from tradingstrategy.client import Client\n",
    "\n",
    "client = Client.create_jupyter_client()"
   ]
  },
  {
   "attachments": {},
   "cell_type": "markdown",
   "metadata": {},
   "source": [
    "## Load data\n",
    "\n",
    "This will pull JSONL data feed for the trading pair from Trading Strategy oracle node."
   ]
  },
  {
   "cell_type": "code",
   "execution_count": 4,
   "metadata": {},
   "outputs": [
    {
     "name": "stdout",
     "output_type": "stream",
     "text": [
      "We loaded 14,949 candles, in range 2021-08-16 - 2023-05-01\n"
     ]
    }
   ],
   "source": [
    "from tradeexecutor.strategy.execution_context import ExecutionMode\n",
    "from tradeexecutor.strategy.universe_model import UniverseOptions\n",
    "\n",
    "universe = create_single_pair_trading_universe(\n",
    "    END_AT,\n",
    "    client,\n",
    "    ExecutionContext(mode=ExecutionMode.data_preload),\n",
    "    UniverseOptions()\n",
    ")\n",
    "data_start, data_end = universe.universe.candles.get_timestamp_range()\n",
    "print(f\"We loaded {universe.universe.candles.get_candle_count():,} candles, in range {data_start.strftime('%Y-%m-%d')} - {data_end.strftime('%Y-%m-%d')}\")"
   ]
  },
  {
   "attachments": {},
   "cell_type": "markdown",
   "metadata": {},
   "source": [
    "## Prepare grid search\n",
    "\n",
    "We prepare the grid search\n",
    "\n",
    "- By definiting the strategy parameter search space\n",
    "\n",
    "- Setting up the file system folder where the strategy run results are stored. The framework caches\n",
    "  the results on disk, so that if the grid search is aborted, it can later resume and long operation results are not lost.\n",
    "\n",
    "- If the grid search results already exist, the backtesting phase is skipped altogether and notebook directly jumps to analysis\n",
    "\n",
    "- To make the analysis easier to read, you should choose the parameter with the most options, or most dominating, to be the first one\n",
    "\n",
    "**Note**: If you change the strategy logic, or fixed parameters, you need to clear the cache folder with `clear_cached_results` setting:\n",
    "\n",
    "```python\n",
    "combinations = prepare_grid_combinations(parameters, storage_folder, clear_cached_results=True)\n",
    "```\n",
    "\n",
    "Otherwise the grid searcher will use the existing stored results and does not rerun your tests with the changed code."
   ]
  },
  {
   "cell_type": "code",
   "execution_count": 5,
   "metadata": {},
   "outputs": [
    {
     "ename": "SyntaxError",
     "evalue": "invalid syntax. Perhaps you forgot a comma? (3305280549.py, line 15)",
     "output_type": "error",
     "traceback": [
      "\u001B[0;36m  Cell \u001B[0;32mIn[5], line 15\u001B[0;36m\u001B[0m\n\u001B[0;31m    storage_folder\u001B[0m\n\u001B[0m    ^\u001B[0m\n\u001B[0;31mSyntaxError\u001B[0m\u001B[0;31m:\u001B[0m invalid syntax. Perhaps you forgot a comma?\n"
     ]
    }
   ],
   "source": [
    "from pathlib import Path\n",
    "\n",
    "from tradeexecutor.backtest.grid_search import prepare_grid_combinations\n",
    "\n",
    "# This is the path where we keep the result files around\n",
    "storage_folder = Path(f\"/tmp/{STRATEGY_NAME}\")\n",
    "\n",
    "parameters = {\n",
    "    \"rsi_threshold\": RSI_THRESHOLD,\n",
    "    \"stddev\": STDDEV,    \n",
    "    \"moving_average_length\": MOVING_AVERAGE_LENGTH,\n",
    "}\n",
    "\n",
    "combinations = prepare_grid_combinations(\n",
    "    parameters, \n",
    "    storage_folder,\n",
    "    clear_cached_results=True, \n",
    ")\n",
    "print(f\"We prepared {len(combinations)} grid search combinations, storing results in {storage_folder}\")"
   ]
  },
  {
   "attachments": {},
   "cell_type": "markdown",
   "metadata": {},
   "source": [
    "## Run grid search\n",
    "\n",
    "Run backtest using giving trading universe and grid search worker function.\n",
    "\n",
    "- Currently this runs in a threaded mode, which is memory optimised but not throughput optimised, for Python\n",
    "- Increasing `max_workers` may not yield to speed gains\n",
    "\n",
    "**Note**: The grid search will consume all of your CPU.\n",
    "Even if you interrupt the kernel or close the notebook, multiprocess grid search does not abort in Visual Studio Code. You need to close your Visual Studio Editor fully."
   ]
  },
  {
   "cell_type": "code",
   "execution_count": null,
   "metadata": {
    "collapsed": false,
    "jupyter": {
     "outputs_hidden": false
    }
   },
   "outputs": [],
   "source": [
    "from tradeexecutor.backtest.grid_search import perform_grid_search\n",
    "\n",
    "grid_search_results = perform_grid_search(\n",
    "    grid_search_worker,\n",
    "    universe,\n",
    "    combinations,  \n",
    "    max_workers=8,  # Allocate 8 CPUs from the computer for the search\n",
    "    multiprocess=True,\n",
    ")\n"
   ]
  },
  {
   "attachments": {},
   "cell_type": "markdown",
   "metadata": {},
   "source": [
    "## Analysing the grid search results\n",
    "\n",
    "We examine the different grid search data.\n"
   ]
  },
  {
   "cell_type": "code",
   "execution_count": null,
   "metadata": {
    "collapsed": false,
    "jupyter": {
     "outputs_hidden": false
    }
   },
   "outputs": [],
   "source": [
    "# Set Jupyter Notebook output mode parameters\n",
    "from tradeexecutor.backtest.notebook import setup_charting_and_output\n",
    "setup_charting_and_output()\n",
    "\n",
    "# Print extension of our backtest\n",
    "print(f\"Grid search combinations available: {len(grid_search_results)}\")"
   ]
  },
  {
   "attachments": {},
   "cell_type": "markdown",
   "metadata": {},
   "source": [
    "### Grid combination table\n",
    "\n",
    "Show the result of all combinations in a single table.\n"
   ]
  },
  {
   "cell_type": "code",
   "execution_count": null,
   "metadata": {},
   "outputs": [],
   "source": [
    "from tradeexecutor.analysis.grid_search import analyse_grid_search_result\n",
    "from tradeexecutor.analysis.grid_search import visualise_table\n",
    "table = analyse_grid_search_result(\n",
    "    grid_search_results,\n",
    "    min_positions_threshold=5,    \n",
    ")\n",
    "\n",
    "visualise_table(table)"
   ]
  },
  {
   "attachments": {},
   "cell_type": "markdown",
   "metadata": {},
   "source": [
    "## Two dimensional heatmaps\n",
    "\n",
    "- Heatmap allows see how one strategy performance metrics varies over the search space\n",
    "- The example has three parameter search space\n",
    "- We compare two of these parameters and lock up one parameter to a fixed value"
   ]
  },
  {
   "cell_type": "code",
   "execution_count": null,
   "metadata": {},
   "outputs": [],
   "source": [
    "from tradeexecutor.analysis.grid_search import visualise_heatmap_2d\n",
    "\n",
    "# Remove one extra axis by focusing only rsi_threshold=65\n",
    "heatmap_data = table.xs(65, level=\"rsi_threshold\")\n",
    "\n",
    "# Draw heatmaps for two different metrics\n",
    "fig = visualise_heatmap_2d(heatmap_data, \"stddev\", \"moving_average_length\", \"Annualised return\")\n",
    "display(fig)"
   ]
  },
  {
   "cell_type": "code",
   "execution_count": null,
   "metadata": {},
   "outputs": [],
   "source": [
    "# Draw another heatmap\n",
    "fig = visualise_heatmap_2d(heatmap_data, \"stddev\", \"moving_average_length\", \"Max drawdown\")\n",
    "display(fig)"
   ]
  },
  {
   "cell_type": "code",
   "execution_count": null,
   "metadata": {},
   "outputs": [],
   "source": [
    "# Draw another heatmap\n",
    "fig = visualise_heatmap_2d(heatmap_data, \"stddev\", \"moving_average_length\", \"Sortino\")\n",
    "display(fig)"
   ]
  },
  {
   "attachments": {},
   "cell_type": "markdown",
   "metadata": {},
   "source": [
    "## Examine the performance of the best combination\n",
    "\n",
    "Show example statistics for one grid searched combination.\n",
    "\n",
    "- In this example, we pick the strategy parameters optimised for annual return"
   ]
  },
  {
   "cell_type": "code",
   "execution_count": null,
   "metadata": {},
   "outputs": [],
   "source": [
    "from tradeexecutor.backtest.grid_search import pick_best_grid_search_result\n",
    "\n",
    "best_return_result = pick_best_grid_search_result(\n",
    "    grid_search_results,    \n",
    "    key=lambda result: result.summary.return_percent,  # Pick from trading metrics\n",
    "    highest=True,\n",
    ")\n",
    "\n",
    "state = best_return_result.state\n",
    "\n",
    "print(f\"The best annual return % was by {best_return_result.combination.get_label()}\")"
   ]
  },
  {
   "cell_type": "markdown",
   "metadata": {},
   "source": [
    "### Equity curve\n",
    "\n",
    "Plot the equity curve of the examined strategy parameter combination."
   ]
  },
  {
   "cell_type": "code",
   "execution_count": null,
   "metadata": {},
   "outputs": [],
   "source": [
    "from tradeexecutor.visual.equity_curve import calculate_equity_curve, calculate_returns\n",
    "from tradeexecutor.visual.equity_curve import visualise_equity_curve\n",
    "\n",
    "curve = calculate_equity_curve(state)\n",
    "returns = calculate_returns(curve)\n",
    "visualise_equity_curve(\n",
    "    returns,\n",
    "    title=f\"Equity curve: {best_return_result.combination.get_label()}\"\n",
    ")"
   ]
  },
  {
   "attachments": {},
   "cell_type": "markdown",
   "metadata": {},
   "source": [
    "### Performance metrics"
   ]
  },
  {
   "cell_type": "code",
   "execution_count": null,
   "metadata": {},
   "outputs": [],
   "source": [
    "import pandas as pd\n",
    "\n",
    "from tradeexecutor.visual.equity_curve import calculate_equity_curve, calculate_returns\n",
    "from tradeexecutor.analysis.advanced_metrics import visualise_advanced_metrics, AdvancedMetricsMode\n",
    "\n",
    "equity = calculate_equity_curve(state)\n",
    "returns = calculate_returns(equity)\n",
    "metrics = visualise_advanced_metrics(returns, mode=AdvancedMetricsMode.full)\n",
    "\n",
    "with pd.option_context(\"display.max_row\", None):\n",
    "    display(metrics)"
   ]
  },
  {
   "attachments": {},
   "cell_type": "markdown",
   "metadata": {},
   "source": [
    "### Trading performance"
   ]
  },
  {
   "cell_type": "code",
   "execution_count": null,
   "metadata": {},
   "outputs": [],
   "source": [
    "summary = best_return_result.summary\n",
    "\n",
    "with pd.option_context(\"display.max_row\", None):\n",
    "    display(summary.to_dataframe())"
   ]
  },
  {
   "cell_type": "markdown",
   "metadata": {},
   "source": [
    "### Benchmark\n",
    "\n"
   ]
  },
  {
   "cell_type": "code",
   "execution_count": null,
   "metadata": {},
   "outputs": [],
   "source": [
    "from tradeexecutor.visual.benchmark import visualise_benchmark\n",
    "\n",
    "traded_pair = universe.universe.pairs.get_single()\n",
    "\n",
    "fig = visualise_benchmark(\n",
    "    \"Bollinger bands example strategy\",\n",
    "    portfolio_statistics=state.stats.portfolio,\n",
    "    all_cash=state.portfolio.get_initial_deposit(),\n",
    "    buy_and_hold_asset_name=traded_pair.base_token_symbol,\n",
    "    buy_and_hold_price_series=universe.universe.candles.get_single_pair_data()[\"close\"],\n",
    "    start_at=START_AT,\n",
    "    end_at=END_AT,\n",
    "    height=800\n",
    ")\n",
    "\n",
    "fig.show()"
   ]
  },
  {
   "attachments": {},
   "cell_type": "markdown",
   "metadata": {},
   "source": [
    "### Monthly returns"
   ]
  },
  {
   "cell_type": "code",
   "execution_count": null,
   "metadata": {},
   "outputs": [],
   "source": [
    "from tradeexecutor.visual.equity_curve import visualise_returns_over_time\n",
    "\n",
    "visualise_returns_over_time(returns)"
   ]
  },
  {
   "cell_type": "code",
   "execution_count": null,
   "metadata": {},
   "outputs": [],
   "source": []
  },
  {
   "cell_type": "markdown",
   "metadata": {},
   "source": [
    "## Finishing notes\n",
    "\n",
    "Print out a line to signal the notebook finished the execution successfully."
   ]
  },
  {
   "cell_type": "code",
   "execution_count": null,
   "metadata": {
    "collapsed": false,
    "jupyter": {
     "outputs_hidden": false
    }
   },
   "outputs": [],
   "source": [
    "print(\"All ok\")"
   ]
  }
 ],
 "metadata": {
  "kernelspec": {
   "display_name": "Python 3.10.6 ('trade-executor-zDrfc5oV-py3.10')",
   "language": "python",
   "name": "python3"
  },
  "language_info": {
   "codemirror_mode": {
    "name": "ipython",
    "version": 3
   },
   "file_extension": ".py",
   "mimetype": "text/x-python",
   "name": "python",
   "nbconvert_exporter": "python",
   "pygments_lexer": "ipython3",
   "version": "3.10.10"
  },
  "vscode": {
   "interpreter": {
    "hash": "f45fb66dacef78c495ceec56f258b06b84bd9cb2c0a9a6d3656125fb3c018996"
   }
  }
 },
 "nbformat": 4,
 "nbformat_minor": 4
}
